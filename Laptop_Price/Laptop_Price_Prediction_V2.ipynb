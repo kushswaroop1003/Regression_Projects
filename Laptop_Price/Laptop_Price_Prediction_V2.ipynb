{
 "cells": [
  {
   "cell_type": "markdown",
   "id": "1b1bed52",
   "metadata": {},
   "source": [
    "# Objective of the Case: \n",
    "Simple Problem- Predict the price of Flights. Study the different variables, analyze the case, use alogorithms to predict the price of flight ticket as accurately as possible."
   ]
  },
  {
   "cell_type": "markdown",
   "id": "a01de48a",
   "metadata": {},
   "source": [
    "# # #Begin with importing the basic Libraries"
   ]
  },
  {
   "cell_type": "code",
   "execution_count": 1,
   "id": "6c7e064c",
   "metadata": {},
   "outputs": [],
   "source": [
    "import pandas as pd\n",
    "import numpy as np\n",
    "import seaborn as sns\n",
    "import matplotlib.pyplot as plt\n",
    "import os\n",
    "import warnings\n",
    "warnings.filterwarnings('ignore')\n",
    "%matplotlib inline\n",
    "import math"
   ]
  },
  {
   "cell_type": "code",
   "execution_count": 2,
   "id": "fdc18a3c",
   "metadata": {},
   "outputs": [],
   "source": [
    "dataset = pd.read_csv(\"laptop_price.csv\")"
   ]
  },
  {
   "cell_type": "code",
   "execution_count": 3,
   "id": "0e320d2d",
   "metadata": {},
   "outputs": [
    {
     "data": {
      "text/html": [
       "<div>\n",
       "<style scoped>\n",
       "    .dataframe tbody tr th:only-of-type {\n",
       "        vertical-align: middle;\n",
       "    }\n",
       "\n",
       "    .dataframe tbody tr th {\n",
       "        vertical-align: top;\n",
       "    }\n",
       "\n",
       "    .dataframe thead th {\n",
       "        text-align: right;\n",
       "    }\n",
       "</style>\n",
       "<table border=\"1\" class=\"dataframe\">\n",
       "  <thead>\n",
       "    <tr style=\"text-align: right;\">\n",
       "      <th></th>\n",
       "      <th>Unnamed: 0</th>\n",
       "      <th>Company</th>\n",
       "      <th>TypeName</th>\n",
       "      <th>Inches</th>\n",
       "      <th>ScreenResolution</th>\n",
       "      <th>Cpu</th>\n",
       "      <th>Ram</th>\n",
       "      <th>Memory</th>\n",
       "      <th>Gpu</th>\n",
       "      <th>OpSys</th>\n",
       "      <th>Weight</th>\n",
       "      <th>Price</th>\n",
       "    </tr>\n",
       "  </thead>\n",
       "  <tbody>\n",
       "    <tr>\n",
       "      <th>0</th>\n",
       "      <td>0</td>\n",
       "      <td>Apple</td>\n",
       "      <td>Ultrabook</td>\n",
       "      <td>13.3</td>\n",
       "      <td>IPS Panel Retina Display 2560x1600</td>\n",
       "      <td>Intel Core i5 2.3GHz</td>\n",
       "      <td>8GB</td>\n",
       "      <td>128GB SSD</td>\n",
       "      <td>Intel Iris Plus Graphics 640</td>\n",
       "      <td>macOS</td>\n",
       "      <td>1.37kg</td>\n",
       "      <td>71378.6832</td>\n",
       "    </tr>\n",
       "    <tr>\n",
       "      <th>1</th>\n",
       "      <td>1</td>\n",
       "      <td>Apple</td>\n",
       "      <td>Ultrabook</td>\n",
       "      <td>13.3</td>\n",
       "      <td>1440x900</td>\n",
       "      <td>Intel Core i5 1.8GHz</td>\n",
       "      <td>8GB</td>\n",
       "      <td>128GB Flash Storage</td>\n",
       "      <td>Intel HD Graphics 6000</td>\n",
       "      <td>macOS</td>\n",
       "      <td>1.34kg</td>\n",
       "      <td>47895.5232</td>\n",
       "    </tr>\n",
       "    <tr>\n",
       "      <th>2</th>\n",
       "      <td>2</td>\n",
       "      <td>HP</td>\n",
       "      <td>Notebook</td>\n",
       "      <td>15.6</td>\n",
       "      <td>Full HD 1920x1080</td>\n",
       "      <td>Intel Core i5 7200U 2.5GHz</td>\n",
       "      <td>8GB</td>\n",
       "      <td>256GB SSD</td>\n",
       "      <td>Intel HD Graphics 620</td>\n",
       "      <td>No OS</td>\n",
       "      <td>1.86kg</td>\n",
       "      <td>30636.0000</td>\n",
       "    </tr>\n",
       "    <tr>\n",
       "      <th>3</th>\n",
       "      <td>3</td>\n",
       "      <td>Apple</td>\n",
       "      <td>Ultrabook</td>\n",
       "      <td>15.4</td>\n",
       "      <td>IPS Panel Retina Display 2880x1800</td>\n",
       "      <td>Intel Core i7 2.7GHz</td>\n",
       "      <td>16GB</td>\n",
       "      <td>512GB SSD</td>\n",
       "      <td>AMD Radeon Pro 455</td>\n",
       "      <td>macOS</td>\n",
       "      <td>1.83kg</td>\n",
       "      <td>135195.3360</td>\n",
       "    </tr>\n",
       "    <tr>\n",
       "      <th>4</th>\n",
       "      <td>4</td>\n",
       "      <td>Apple</td>\n",
       "      <td>Ultrabook</td>\n",
       "      <td>13.3</td>\n",
       "      <td>IPS Panel Retina Display 2560x1600</td>\n",
       "      <td>Intel Core i5 3.1GHz</td>\n",
       "      <td>8GB</td>\n",
       "      <td>256GB SSD</td>\n",
       "      <td>Intel Iris Plus Graphics 650</td>\n",
       "      <td>macOS</td>\n",
       "      <td>1.37kg</td>\n",
       "      <td>96095.8080</td>\n",
       "    </tr>\n",
       "  </tbody>\n",
       "</table>\n",
       "</div>"
      ],
      "text/plain": [
       "   Unnamed: 0 Company   TypeName  Inches                    ScreenResolution  \\\n",
       "0           0   Apple  Ultrabook    13.3  IPS Panel Retina Display 2560x1600   \n",
       "1           1   Apple  Ultrabook    13.3                            1440x900   \n",
       "2           2      HP   Notebook    15.6                   Full HD 1920x1080   \n",
       "3           3   Apple  Ultrabook    15.4  IPS Panel Retina Display 2880x1800   \n",
       "4           4   Apple  Ultrabook    13.3  IPS Panel Retina Display 2560x1600   \n",
       "\n",
       "                          Cpu   Ram               Memory  \\\n",
       "0        Intel Core i5 2.3GHz   8GB            128GB SSD   \n",
       "1        Intel Core i5 1.8GHz   8GB  128GB Flash Storage   \n",
       "2  Intel Core i5 7200U 2.5GHz   8GB            256GB SSD   \n",
       "3        Intel Core i7 2.7GHz  16GB            512GB SSD   \n",
       "4        Intel Core i5 3.1GHz   8GB            256GB SSD   \n",
       "\n",
       "                            Gpu  OpSys  Weight        Price  \n",
       "0  Intel Iris Plus Graphics 640  macOS  1.37kg   71378.6832  \n",
       "1        Intel HD Graphics 6000  macOS  1.34kg   47895.5232  \n",
       "2         Intel HD Graphics 620  No OS  1.86kg   30636.0000  \n",
       "3            AMD Radeon Pro 455  macOS  1.83kg  135195.3360  \n",
       "4  Intel Iris Plus Graphics 650  macOS  1.37kg   96095.8080  "
      ]
     },
     "execution_count": 3,
     "metadata": {},
     "output_type": "execute_result"
    }
   ],
   "source": [
    "dataset.head()"
   ]
  },
  {
   "cell_type": "code",
   "execution_count": 4,
   "id": "2534bd83",
   "metadata": {},
   "outputs": [],
   "source": [
    "dataset = dataset.drop(\"Unnamed: 0\",axis = 1)"
   ]
  },
  {
   "cell_type": "code",
   "execution_count": 5,
   "id": "fa02e83d",
   "metadata": {},
   "outputs": [
    {
     "name": "stdout",
     "output_type": "stream",
     "text": [
      "<class 'pandas.core.frame.DataFrame'>\n",
      "RangeIndex: 1303 entries, 0 to 1302\n",
      "Data columns (total 11 columns):\n",
      " #   Column            Non-Null Count  Dtype  \n",
      "---  ------            --------------  -----  \n",
      " 0   Company           1303 non-null   object \n",
      " 1   TypeName          1303 non-null   object \n",
      " 2   Inches            1303 non-null   float64\n",
      " 3   ScreenResolution  1303 non-null   object \n",
      " 4   Cpu               1303 non-null   object \n",
      " 5   Ram               1303 non-null   object \n",
      " 6   Memory            1303 non-null   object \n",
      " 7   Gpu               1303 non-null   object \n",
      " 8   OpSys             1303 non-null   object \n",
      " 9   Weight            1303 non-null   object \n",
      " 10  Price             1303 non-null   float64\n",
      "dtypes: float64(2), object(9)\n",
      "memory usage: 112.1+ KB\n"
     ]
    }
   ],
   "source": [
    "dataset.info()"
   ]
  },
  {
   "cell_type": "code",
   "execution_count": 6,
   "id": "bce713ef",
   "metadata": {},
   "outputs": [
    {
     "data": {
      "text/html": [
       "<div>\n",
       "<style scoped>\n",
       "    .dataframe tbody tr th:only-of-type {\n",
       "        vertical-align: middle;\n",
       "    }\n",
       "\n",
       "    .dataframe tbody tr th {\n",
       "        vertical-align: top;\n",
       "    }\n",
       "\n",
       "    .dataframe thead th {\n",
       "        text-align: right;\n",
       "    }\n",
       "</style>\n",
       "<table border=\"1\" class=\"dataframe\">\n",
       "  <thead>\n",
       "    <tr style=\"text-align: right;\">\n",
       "      <th></th>\n",
       "      <th>Company</th>\n",
       "      <th>TypeName</th>\n",
       "      <th>Inches</th>\n",
       "      <th>ScreenResolution</th>\n",
       "      <th>Cpu</th>\n",
       "      <th>Ram</th>\n",
       "      <th>Memory</th>\n",
       "      <th>Gpu</th>\n",
       "      <th>OpSys</th>\n",
       "      <th>Weight</th>\n",
       "      <th>Price</th>\n",
       "    </tr>\n",
       "  </thead>\n",
       "  <tbody>\n",
       "    <tr>\n",
       "      <th>0</th>\n",
       "      <td>Apple</td>\n",
       "      <td>Ultrabook</td>\n",
       "      <td>13.3</td>\n",
       "      <td>IPS Panel Retina Display 2560x1600</td>\n",
       "      <td>Intel Core i5 2.3GHz</td>\n",
       "      <td>8GB</td>\n",
       "      <td>128GB SSD</td>\n",
       "      <td>Intel Iris Plus Graphics 640</td>\n",
       "      <td>macOS</td>\n",
       "      <td>1.37kg</td>\n",
       "      <td>71378.6832</td>\n",
       "    </tr>\n",
       "    <tr>\n",
       "      <th>1</th>\n",
       "      <td>Apple</td>\n",
       "      <td>Ultrabook</td>\n",
       "      <td>13.3</td>\n",
       "      <td>1440x900</td>\n",
       "      <td>Intel Core i5 1.8GHz</td>\n",
       "      <td>8GB</td>\n",
       "      <td>128GB Flash Storage</td>\n",
       "      <td>Intel HD Graphics 6000</td>\n",
       "      <td>macOS</td>\n",
       "      <td>1.34kg</td>\n",
       "      <td>47895.5232</td>\n",
       "    </tr>\n",
       "    <tr>\n",
       "      <th>2</th>\n",
       "      <td>HP</td>\n",
       "      <td>Notebook</td>\n",
       "      <td>15.6</td>\n",
       "      <td>Full HD 1920x1080</td>\n",
       "      <td>Intel Core i5 7200U 2.5GHz</td>\n",
       "      <td>8GB</td>\n",
       "      <td>256GB SSD</td>\n",
       "      <td>Intel HD Graphics 620</td>\n",
       "      <td>No OS</td>\n",
       "      <td>1.86kg</td>\n",
       "      <td>30636.0000</td>\n",
       "    </tr>\n",
       "    <tr>\n",
       "      <th>3</th>\n",
       "      <td>Apple</td>\n",
       "      <td>Ultrabook</td>\n",
       "      <td>15.4</td>\n",
       "      <td>IPS Panel Retina Display 2880x1800</td>\n",
       "      <td>Intel Core i7 2.7GHz</td>\n",
       "      <td>16GB</td>\n",
       "      <td>512GB SSD</td>\n",
       "      <td>AMD Radeon Pro 455</td>\n",
       "      <td>macOS</td>\n",
       "      <td>1.83kg</td>\n",
       "      <td>135195.3360</td>\n",
       "    </tr>\n",
       "    <tr>\n",
       "      <th>4</th>\n",
       "      <td>Apple</td>\n",
       "      <td>Ultrabook</td>\n",
       "      <td>13.3</td>\n",
       "      <td>IPS Panel Retina Display 2560x1600</td>\n",
       "      <td>Intel Core i5 3.1GHz</td>\n",
       "      <td>8GB</td>\n",
       "      <td>256GB SSD</td>\n",
       "      <td>Intel Iris Plus Graphics 650</td>\n",
       "      <td>macOS</td>\n",
       "      <td>1.37kg</td>\n",
       "      <td>96095.8080</td>\n",
       "    </tr>\n",
       "  </tbody>\n",
       "</table>\n",
       "</div>"
      ],
      "text/plain": [
       "  Company   TypeName  Inches                    ScreenResolution  \\\n",
       "0   Apple  Ultrabook    13.3  IPS Panel Retina Display 2560x1600   \n",
       "1   Apple  Ultrabook    13.3                            1440x900   \n",
       "2      HP   Notebook    15.6                   Full HD 1920x1080   \n",
       "3   Apple  Ultrabook    15.4  IPS Panel Retina Display 2880x1800   \n",
       "4   Apple  Ultrabook    13.3  IPS Panel Retina Display 2560x1600   \n",
       "\n",
       "                          Cpu   Ram               Memory  \\\n",
       "0        Intel Core i5 2.3GHz   8GB            128GB SSD   \n",
       "1        Intel Core i5 1.8GHz   8GB  128GB Flash Storage   \n",
       "2  Intel Core i5 7200U 2.5GHz   8GB            256GB SSD   \n",
       "3        Intel Core i7 2.7GHz  16GB            512GB SSD   \n",
       "4        Intel Core i5 3.1GHz   8GB            256GB SSD   \n",
       "\n",
       "                            Gpu  OpSys  Weight        Price  \n",
       "0  Intel Iris Plus Graphics 640  macOS  1.37kg   71378.6832  \n",
       "1        Intel HD Graphics 6000  macOS  1.34kg   47895.5232  \n",
       "2         Intel HD Graphics 620  No OS  1.86kg   30636.0000  \n",
       "3            AMD Radeon Pro 455  macOS  1.83kg  135195.3360  \n",
       "4  Intel Iris Plus Graphics 650  macOS  1.37kg   96095.8080  "
      ]
     },
     "execution_count": 6,
     "metadata": {},
     "output_type": "execute_result"
    }
   ],
   "source": [
    "dataset.head()"
   ]
  },
  {
   "cell_type": "code",
   "execution_count": 7,
   "id": "1e07a0b7",
   "metadata": {},
   "outputs": [
    {
     "data": {
      "text/plain": [
       "(1303, 11)"
      ]
     },
     "execution_count": 7,
     "metadata": {},
     "output_type": "execute_result"
    }
   ],
   "source": [
    "dataset.shape"
   ]
  },
  {
   "cell_type": "code",
   "execution_count": 8,
   "id": "dffd1c76",
   "metadata": {},
   "outputs": [
    {
     "data": {
      "text/plain": [
       "29"
      ]
     },
     "execution_count": 8,
     "metadata": {},
     "output_type": "execute_result"
    }
   ],
   "source": [
    "dataset.duplicated().sum()"
   ]
  },
  {
   "cell_type": "markdown",
   "id": "ff90e227",
   "metadata": {},
   "source": [
    "# Pre-Processing"
   ]
  },
  {
   "cell_type": "markdown",
   "id": "780ea6f3",
   "metadata": {},
   "source": [
    "# Step1: Null Value Analysis"
   ]
  },
  {
   "cell_type": "code",
   "execution_count": 9,
   "id": "ce6e97a9",
   "metadata": {},
   "outputs": [
    {
     "data": {
      "text/plain": [
       "Company             0\n",
       "TypeName            0\n",
       "Inches              0\n",
       "ScreenResolution    0\n",
       "Cpu                 0\n",
       "Ram                 0\n",
       "Memory              0\n",
       "Gpu                 0\n",
       "OpSys               0\n",
       "Weight              0\n",
       "Price               0\n",
       "dtype: int64"
      ]
     },
     "execution_count": 9,
     "metadata": {},
     "output_type": "execute_result"
    }
   ],
   "source": [
    "dataset.isnull().sum()"
   ]
  },
  {
   "cell_type": "code",
   "execution_count": 10,
   "id": "d2c72641",
   "metadata": {},
   "outputs": [],
   "source": [
    "# No Null Value to Show"
   ]
  },
  {
   "cell_type": "markdown",
   "id": "a19d851e",
   "metadata": {},
   "source": [
    "# This particular case has lot of long String based variables, which requires extensive feature engineering in order to draw some meaningful insights"
   ]
  },
  {
   "cell_type": "markdown",
   "id": "772244ea",
   "metadata": {},
   "source": [
    "# Pre-Processing Step-2"
   ]
  },
  {
   "cell_type": "code",
   "execution_count": 11,
   "id": "d55e9f8a",
   "metadata": {},
   "outputs": [],
   "source": [
    "# Lets convert RAM into a Numerical Feature\n",
    "dataset[\"Ram\"] = dataset[\"Ram\"].str.replace(\"GB\",\"\")"
   ]
  },
  {
   "cell_type": "code",
   "execution_count": 12,
   "id": "4b8453ec",
   "metadata": {},
   "outputs": [
    {
     "data": {
      "text/html": [
       "<div>\n",
       "<style scoped>\n",
       "    .dataframe tbody tr th:only-of-type {\n",
       "        vertical-align: middle;\n",
       "    }\n",
       "\n",
       "    .dataframe tbody tr th {\n",
       "        vertical-align: top;\n",
       "    }\n",
       "\n",
       "    .dataframe thead th {\n",
       "        text-align: right;\n",
       "    }\n",
       "</style>\n",
       "<table border=\"1\" class=\"dataframe\">\n",
       "  <thead>\n",
       "    <tr style=\"text-align: right;\">\n",
       "      <th></th>\n",
       "      <th>Company</th>\n",
       "      <th>TypeName</th>\n",
       "      <th>Inches</th>\n",
       "      <th>ScreenResolution</th>\n",
       "      <th>Cpu</th>\n",
       "      <th>Ram</th>\n",
       "      <th>Memory</th>\n",
       "      <th>Gpu</th>\n",
       "      <th>OpSys</th>\n",
       "      <th>Weight</th>\n",
       "      <th>Price</th>\n",
       "    </tr>\n",
       "  </thead>\n",
       "  <tbody>\n",
       "    <tr>\n",
       "      <th>0</th>\n",
       "      <td>Apple</td>\n",
       "      <td>Ultrabook</td>\n",
       "      <td>13.3</td>\n",
       "      <td>IPS Panel Retina Display 2560x1600</td>\n",
       "      <td>Intel Core i5 2.3GHz</td>\n",
       "      <td>8</td>\n",
       "      <td>128GB SSD</td>\n",
       "      <td>Intel Iris Plus Graphics 640</td>\n",
       "      <td>macOS</td>\n",
       "      <td>1.37kg</td>\n",
       "      <td>71378.6832</td>\n",
       "    </tr>\n",
       "    <tr>\n",
       "      <th>1</th>\n",
       "      <td>Apple</td>\n",
       "      <td>Ultrabook</td>\n",
       "      <td>13.3</td>\n",
       "      <td>1440x900</td>\n",
       "      <td>Intel Core i5 1.8GHz</td>\n",
       "      <td>8</td>\n",
       "      <td>128GB Flash Storage</td>\n",
       "      <td>Intel HD Graphics 6000</td>\n",
       "      <td>macOS</td>\n",
       "      <td>1.34kg</td>\n",
       "      <td>47895.5232</td>\n",
       "    </tr>\n",
       "    <tr>\n",
       "      <th>2</th>\n",
       "      <td>HP</td>\n",
       "      <td>Notebook</td>\n",
       "      <td>15.6</td>\n",
       "      <td>Full HD 1920x1080</td>\n",
       "      <td>Intel Core i5 7200U 2.5GHz</td>\n",
       "      <td>8</td>\n",
       "      <td>256GB SSD</td>\n",
       "      <td>Intel HD Graphics 620</td>\n",
       "      <td>No OS</td>\n",
       "      <td>1.86kg</td>\n",
       "      <td>30636.0000</td>\n",
       "    </tr>\n",
       "    <tr>\n",
       "      <th>3</th>\n",
       "      <td>Apple</td>\n",
       "      <td>Ultrabook</td>\n",
       "      <td>15.4</td>\n",
       "      <td>IPS Panel Retina Display 2880x1800</td>\n",
       "      <td>Intel Core i7 2.7GHz</td>\n",
       "      <td>16</td>\n",
       "      <td>512GB SSD</td>\n",
       "      <td>AMD Radeon Pro 455</td>\n",
       "      <td>macOS</td>\n",
       "      <td>1.83kg</td>\n",
       "      <td>135195.3360</td>\n",
       "    </tr>\n",
       "    <tr>\n",
       "      <th>4</th>\n",
       "      <td>Apple</td>\n",
       "      <td>Ultrabook</td>\n",
       "      <td>13.3</td>\n",
       "      <td>IPS Panel Retina Display 2560x1600</td>\n",
       "      <td>Intel Core i5 3.1GHz</td>\n",
       "      <td>8</td>\n",
       "      <td>256GB SSD</td>\n",
       "      <td>Intel Iris Plus Graphics 650</td>\n",
       "      <td>macOS</td>\n",
       "      <td>1.37kg</td>\n",
       "      <td>96095.8080</td>\n",
       "    </tr>\n",
       "  </tbody>\n",
       "</table>\n",
       "</div>"
      ],
      "text/plain": [
       "  Company   TypeName  Inches                    ScreenResolution  \\\n",
       "0   Apple  Ultrabook    13.3  IPS Panel Retina Display 2560x1600   \n",
       "1   Apple  Ultrabook    13.3                            1440x900   \n",
       "2      HP   Notebook    15.6                   Full HD 1920x1080   \n",
       "3   Apple  Ultrabook    15.4  IPS Panel Retina Display 2880x1800   \n",
       "4   Apple  Ultrabook    13.3  IPS Panel Retina Display 2560x1600   \n",
       "\n",
       "                          Cpu Ram               Memory  \\\n",
       "0        Intel Core i5 2.3GHz   8            128GB SSD   \n",
       "1        Intel Core i5 1.8GHz   8  128GB Flash Storage   \n",
       "2  Intel Core i5 7200U 2.5GHz   8            256GB SSD   \n",
       "3        Intel Core i7 2.7GHz  16            512GB SSD   \n",
       "4        Intel Core i5 3.1GHz   8            256GB SSD   \n",
       "\n",
       "                            Gpu  OpSys  Weight        Price  \n",
       "0  Intel Iris Plus Graphics 640  macOS  1.37kg   71378.6832  \n",
       "1        Intel HD Graphics 6000  macOS  1.34kg   47895.5232  \n",
       "2         Intel HD Graphics 620  No OS  1.86kg   30636.0000  \n",
       "3            AMD Radeon Pro 455  macOS  1.83kg  135195.3360  \n",
       "4  Intel Iris Plus Graphics 650  macOS  1.37kg   96095.8080  "
      ]
     },
     "execution_count": 12,
     "metadata": {},
     "output_type": "execute_result"
    }
   ],
   "source": [
    "dataset.head()"
   ]
  },
  {
   "cell_type": "code",
   "execution_count": 13,
   "id": "71bfd341",
   "metadata": {},
   "outputs": [],
   "source": [
    "# Like RAM convert weight into Numerical Feature\n",
    "dataset[\"Weight\"] = dataset[\"Weight\"].str.replace(\"kg\",\"\")"
   ]
  },
  {
   "cell_type": "code",
   "execution_count": 14,
   "id": "659790ff",
   "metadata": {},
   "outputs": [],
   "source": [
    "# From the screenresolution variable lets see if we have Touch screen and IPS availablle:Yes or No.\n",
    "# We will do the price comparison as well in EDA"
   ]
  },
  {
   "cell_type": "code",
   "execution_count": 15,
   "id": "675444f6",
   "metadata": {},
   "outputs": [],
   "source": [
    "dataset[\"Touchscreen\"] = dataset[\"ScreenResolution\"].apply(lambda x:1 if \"TouchScreen\" in x else 0 )"
   ]
  },
  {
   "cell_type": "code",
   "execution_count": 16,
   "id": "721f5b3c",
   "metadata": {},
   "outputs": [],
   "source": [
    "dataset[\"IPS\"] = dataset[\"ScreenResolution\"].apply(lambda x: 1 if \"IPS\" in x else 0)"
   ]
  },
  {
   "cell_type": "code",
   "execution_count": 17,
   "id": "2b67d53e",
   "metadata": {},
   "outputs": [],
   "source": [
    "dataset[\"X_res\"] = dataset[\"ScreenResolution\"].str.split(\"x\",expand = True)[1]"
   ]
  },
  {
   "cell_type": "code",
   "execution_count": 18,
   "id": "7390d9a3",
   "metadata": {},
   "outputs": [],
   "source": [
    "dataset[\"A_res\"] = dataset[\"ScreenResolution\"].str.split(\"x\",expand = True)[0]"
   ]
  },
  {
   "cell_type": "code",
   "execution_count": 19,
   "id": "6c0f6267",
   "metadata": {},
   "outputs": [],
   "source": [
    "dataset[\"A_res\"]= dataset[\"A_res\"].str.replace(\",\",\"\").str.findall(r'(\\d+\\.?\\d+)').apply(lambda x:x[0])"
   ]
  },
  {
   "cell_type": "code",
   "execution_count": 20,
   "id": "ff01faec",
   "metadata": {},
   "outputs": [
    {
     "data": {
      "text/html": [
       "<div>\n",
       "<style scoped>\n",
       "    .dataframe tbody tr th:only-of-type {\n",
       "        vertical-align: middle;\n",
       "    }\n",
       "\n",
       "    .dataframe tbody tr th {\n",
       "        vertical-align: top;\n",
       "    }\n",
       "\n",
       "    .dataframe thead th {\n",
       "        text-align: right;\n",
       "    }\n",
       "</style>\n",
       "<table border=\"1\" class=\"dataframe\">\n",
       "  <thead>\n",
       "    <tr style=\"text-align: right;\">\n",
       "      <th></th>\n",
       "      <th>Company</th>\n",
       "      <th>TypeName</th>\n",
       "      <th>Inches</th>\n",
       "      <th>ScreenResolution</th>\n",
       "      <th>Cpu</th>\n",
       "      <th>Ram</th>\n",
       "      <th>Memory</th>\n",
       "      <th>Gpu</th>\n",
       "      <th>OpSys</th>\n",
       "      <th>Weight</th>\n",
       "      <th>Price</th>\n",
       "      <th>Touchscreen</th>\n",
       "      <th>IPS</th>\n",
       "      <th>X_res</th>\n",
       "      <th>A_res</th>\n",
       "    </tr>\n",
       "  </thead>\n",
       "  <tbody>\n",
       "    <tr>\n",
       "      <th>0</th>\n",
       "      <td>Apple</td>\n",
       "      <td>Ultrabook</td>\n",
       "      <td>13.3</td>\n",
       "      <td>IPS Panel Retina Display 2560x1600</td>\n",
       "      <td>Intel Core i5 2.3GHz</td>\n",
       "      <td>8</td>\n",
       "      <td>128GB SSD</td>\n",
       "      <td>Intel Iris Plus Graphics 640</td>\n",
       "      <td>macOS</td>\n",
       "      <td>1.37</td>\n",
       "      <td>71378.6832</td>\n",
       "      <td>0</td>\n",
       "      <td>1</td>\n",
       "      <td>1600</td>\n",
       "      <td>2560</td>\n",
       "    </tr>\n",
       "    <tr>\n",
       "      <th>1</th>\n",
       "      <td>Apple</td>\n",
       "      <td>Ultrabook</td>\n",
       "      <td>13.3</td>\n",
       "      <td>1440x900</td>\n",
       "      <td>Intel Core i5 1.8GHz</td>\n",
       "      <td>8</td>\n",
       "      <td>128GB Flash Storage</td>\n",
       "      <td>Intel HD Graphics 6000</td>\n",
       "      <td>macOS</td>\n",
       "      <td>1.34</td>\n",
       "      <td>47895.5232</td>\n",
       "      <td>0</td>\n",
       "      <td>0</td>\n",
       "      <td>900</td>\n",
       "      <td>1440</td>\n",
       "    </tr>\n",
       "    <tr>\n",
       "      <th>2</th>\n",
       "      <td>HP</td>\n",
       "      <td>Notebook</td>\n",
       "      <td>15.6</td>\n",
       "      <td>Full HD 1920x1080</td>\n",
       "      <td>Intel Core i5 7200U 2.5GHz</td>\n",
       "      <td>8</td>\n",
       "      <td>256GB SSD</td>\n",
       "      <td>Intel HD Graphics 620</td>\n",
       "      <td>No OS</td>\n",
       "      <td>1.86</td>\n",
       "      <td>30636.0000</td>\n",
       "      <td>0</td>\n",
       "      <td>0</td>\n",
       "      <td>1080</td>\n",
       "      <td>1920</td>\n",
       "    </tr>\n",
       "    <tr>\n",
       "      <th>3</th>\n",
       "      <td>Apple</td>\n",
       "      <td>Ultrabook</td>\n",
       "      <td>15.4</td>\n",
       "      <td>IPS Panel Retina Display 2880x1800</td>\n",
       "      <td>Intel Core i7 2.7GHz</td>\n",
       "      <td>16</td>\n",
       "      <td>512GB SSD</td>\n",
       "      <td>AMD Radeon Pro 455</td>\n",
       "      <td>macOS</td>\n",
       "      <td>1.83</td>\n",
       "      <td>135195.3360</td>\n",
       "      <td>0</td>\n",
       "      <td>1</td>\n",
       "      <td>1800</td>\n",
       "      <td>2880</td>\n",
       "    </tr>\n",
       "    <tr>\n",
       "      <th>4</th>\n",
       "      <td>Apple</td>\n",
       "      <td>Ultrabook</td>\n",
       "      <td>13.3</td>\n",
       "      <td>IPS Panel Retina Display 2560x1600</td>\n",
       "      <td>Intel Core i5 3.1GHz</td>\n",
       "      <td>8</td>\n",
       "      <td>256GB SSD</td>\n",
       "      <td>Intel Iris Plus Graphics 650</td>\n",
       "      <td>macOS</td>\n",
       "      <td>1.37</td>\n",
       "      <td>96095.8080</td>\n",
       "      <td>0</td>\n",
       "      <td>1</td>\n",
       "      <td>1600</td>\n",
       "      <td>2560</td>\n",
       "    </tr>\n",
       "  </tbody>\n",
       "</table>\n",
       "</div>"
      ],
      "text/plain": [
       "  Company   TypeName  Inches                    ScreenResolution  \\\n",
       "0   Apple  Ultrabook    13.3  IPS Panel Retina Display 2560x1600   \n",
       "1   Apple  Ultrabook    13.3                            1440x900   \n",
       "2      HP   Notebook    15.6                   Full HD 1920x1080   \n",
       "3   Apple  Ultrabook    15.4  IPS Panel Retina Display 2880x1800   \n",
       "4   Apple  Ultrabook    13.3  IPS Panel Retina Display 2560x1600   \n",
       "\n",
       "                          Cpu Ram               Memory  \\\n",
       "0        Intel Core i5 2.3GHz   8            128GB SSD   \n",
       "1        Intel Core i5 1.8GHz   8  128GB Flash Storage   \n",
       "2  Intel Core i5 7200U 2.5GHz   8            256GB SSD   \n",
       "3        Intel Core i7 2.7GHz  16            512GB SSD   \n",
       "4        Intel Core i5 3.1GHz   8            256GB SSD   \n",
       "\n",
       "                            Gpu  OpSys Weight        Price  Touchscreen  IPS  \\\n",
       "0  Intel Iris Plus Graphics 640  macOS   1.37   71378.6832            0    1   \n",
       "1        Intel HD Graphics 6000  macOS   1.34   47895.5232            0    0   \n",
       "2         Intel HD Graphics 620  No OS   1.86   30636.0000            0    0   \n",
       "3            AMD Radeon Pro 455  macOS   1.83  135195.3360            0    1   \n",
       "4  Intel Iris Plus Graphics 650  macOS   1.37   96095.8080            0    1   \n",
       "\n",
       "  X_res A_res  \n",
       "0  1600  2560  \n",
       "1   900  1440  \n",
       "2  1080  1920  \n",
       "3  1800  2880  \n",
       "4  1600  2560  "
      ]
     },
     "execution_count": 20,
     "metadata": {},
     "output_type": "execute_result"
    }
   ],
   "source": [
    "dataset.head()"
   ]
  },
  {
   "cell_type": "code",
   "execution_count": 21,
   "id": "3e402094",
   "metadata": {},
   "outputs": [],
   "source": [
    "dataset[\"A_res\"] = dataset[\"A_res\"].astype(\"int32\")"
   ]
  },
  {
   "cell_type": "code",
   "execution_count": 22,
   "id": "ebf7482e",
   "metadata": {},
   "outputs": [],
   "source": [
    "dataset[\"X_res\"] = dataset[\"X_res\"].astype(\"int32\")"
   ]
  },
  {
   "cell_type": "code",
   "execution_count": 23,
   "id": "7d4dda97",
   "metadata": {},
   "outputs": [],
   "source": [
    "# Lets take out PPI-Pixel Per Inch and another important feature to determine price"
   ]
  },
  {
   "cell_type": "code",
   "execution_count": 24,
   "id": "8a0d23b2",
   "metadata": {},
   "outputs": [],
   "source": [
    "dataset[\"PPI\"] = (((dataset[\"A_res\"]**2) + (dataset[\"X_res\"]**2))**.5/dataset[\"Inches\"]).round(decimals=0).astype(\"float\")"
   ]
  },
  {
   "cell_type": "code",
   "execution_count": 25,
   "id": "b154b572",
   "metadata": {},
   "outputs": [],
   "source": [
    "# Now we have extratcted enough information from Screen Resolution lets' drop the column"
   ]
  },
  {
   "cell_type": "code",
   "execution_count": 26,
   "id": "cedf44ce",
   "metadata": {},
   "outputs": [],
   "source": [
    "dataset= dataset.drop([\"ScreenResolution\"],axis =1)"
   ]
  },
  {
   "cell_type": "code",
   "execution_count": 27,
   "id": "b3bd04ff",
   "metadata": {},
   "outputs": [],
   "source": [
    "#Identify the Brands of CPU"
   ]
  },
  {
   "cell_type": "code",
   "execution_count": 28,
   "id": "55378fb5",
   "metadata": {},
   "outputs": [],
   "source": [
    "dataset[\"CPU\"] = dataset[\"Cpu\"].apply(lambda x: \" \".join(x.split()[0:3]))"
   ]
  },
  {
   "cell_type": "code",
   "execution_count": 29,
   "id": "bd906269",
   "metadata": {},
   "outputs": [],
   "source": [
    "# While it is know case that processors will be of intel or AMD, we want to see if they are in i series, or AMD or any other.\n",
    "# We will write a function to check that"
   ]
  },
  {
   "cell_type": "code",
   "execution_count": 30,
   "id": "69046f2a",
   "metadata": {},
   "outputs": [],
   "source": [
    "def CPU(Processors):\n",
    "    if Processors == \"Intel Core i3\" or Processors == \"Intel Core i5\" or Processors ==\"Intel Core i7\":\n",
    "        return Processors\n",
    "    if Processors.split()[0] ==\"Intel\":\n",
    "        return \"Other Intel Processor\"\n",
    "    else:\n",
    "        return \"AMD Processor\""
   ]
  },
  {
   "cell_type": "code",
   "execution_count": 31,
   "id": "d9456955",
   "metadata": {},
   "outputs": [],
   "source": [
    "dataset[\"CPU Brand\"] = dataset[\"CPU\"].apply(CPU)"
   ]
  },
  {
   "cell_type": "code",
   "execution_count": 32,
   "id": "2736d060",
   "metadata": {},
   "outputs": [],
   "source": [
    "# Drop the Feature\n",
    "dataset = dataset.drop([\"Cpu\",\"CPU\"], axis =1)"
   ]
  },
  {
   "cell_type": "code",
   "execution_count": 33,
   "id": "f62bceaa",
   "metadata": {},
   "outputs": [],
   "source": [
    "dataset[\"GPU\"] = dataset[\"Gpu\"].apply(lambda x:\" \".join((x.split()[0:1])))"
   ]
  },
  {
   "cell_type": "code",
   "execution_count": 34,
   "id": "e2b59c93",
   "metadata": {},
   "outputs": [],
   "source": [
    "dataset = dataset.drop([\"Gpu\"],axis =1)"
   ]
  },
  {
   "cell_type": "code",
   "execution_count": 35,
   "id": "0a85d1f8",
   "metadata": {},
   "outputs": [
    {
     "data": {
      "text/plain": [
       "Windows 10      1072\n",
       "No OS             66\n",
       "Linux             62\n",
       "Windows 7         45\n",
       "Chrome OS         27\n",
       "macOS             13\n",
       "Mac OS X           8\n",
       "Windows 10 S       8\n",
       "Android            2\n",
       "Name: OpSys, dtype: int64"
      ]
     },
     "execution_count": 35,
     "metadata": {},
     "output_type": "execute_result"
    }
   ],
   "source": [
    "dataset[\"OpSys\"].value_counts()"
   ]
  },
  {
   "cell_type": "code",
   "execution_count": 36,
   "id": "1b44bc81",
   "metadata": {},
   "outputs": [],
   "source": [
    "def OPS(text):\n",
    "    if text.split(\" \")[0] == \"Windows\":\n",
    "        return \"Windows\"\n",
    "    if text == \"macOS\" or text ==\"Mac OS X\":\n",
    "        return \"Mac\"\n",
    "    if text ==\"Linux\":\n",
    "        return \"Linux\"\n",
    "    else:\n",
    "        return \"Other\""
   ]
  },
  {
   "cell_type": "code",
   "execution_count": 37,
   "id": "2adda946",
   "metadata": {},
   "outputs": [],
   "source": [
    "dataset[\"OpSys\"]= dataset[\"OpSys\"].apply(OPS)"
   ]
  },
  {
   "cell_type": "code",
   "execution_count": 38,
   "id": "22f78bdb",
   "metadata": {},
   "outputs": [
    {
     "data": {
      "text/html": [
       "<div>\n",
       "<style scoped>\n",
       "    .dataframe tbody tr th:only-of-type {\n",
       "        vertical-align: middle;\n",
       "    }\n",
       "\n",
       "    .dataframe tbody tr th {\n",
       "        vertical-align: top;\n",
       "    }\n",
       "\n",
       "    .dataframe thead th {\n",
       "        text-align: right;\n",
       "    }\n",
       "</style>\n",
       "<table border=\"1\" class=\"dataframe\">\n",
       "  <thead>\n",
       "    <tr style=\"text-align: right;\">\n",
       "      <th></th>\n",
       "      <th>Company</th>\n",
       "      <th>TypeName</th>\n",
       "      <th>Inches</th>\n",
       "      <th>Ram</th>\n",
       "      <th>Memory</th>\n",
       "      <th>OpSys</th>\n",
       "      <th>Weight</th>\n",
       "      <th>Price</th>\n",
       "      <th>Touchscreen</th>\n",
       "      <th>IPS</th>\n",
       "      <th>X_res</th>\n",
       "      <th>A_res</th>\n",
       "      <th>PPI</th>\n",
       "      <th>CPU Brand</th>\n",
       "      <th>GPU</th>\n",
       "    </tr>\n",
       "  </thead>\n",
       "  <tbody>\n",
       "    <tr>\n",
       "      <th>0</th>\n",
       "      <td>Apple</td>\n",
       "      <td>Ultrabook</td>\n",
       "      <td>13.3</td>\n",
       "      <td>8</td>\n",
       "      <td>128GB SSD</td>\n",
       "      <td>Mac</td>\n",
       "      <td>1.37</td>\n",
       "      <td>71378.6832</td>\n",
       "      <td>0</td>\n",
       "      <td>1</td>\n",
       "      <td>1600</td>\n",
       "      <td>2560</td>\n",
       "      <td>227.0</td>\n",
       "      <td>Intel Core i5</td>\n",
       "      <td>Intel</td>\n",
       "    </tr>\n",
       "    <tr>\n",
       "      <th>1</th>\n",
       "      <td>Apple</td>\n",
       "      <td>Ultrabook</td>\n",
       "      <td>13.3</td>\n",
       "      <td>8</td>\n",
       "      <td>128GB Flash Storage</td>\n",
       "      <td>Mac</td>\n",
       "      <td>1.34</td>\n",
       "      <td>47895.5232</td>\n",
       "      <td>0</td>\n",
       "      <td>0</td>\n",
       "      <td>900</td>\n",
       "      <td>1440</td>\n",
       "      <td>128.0</td>\n",
       "      <td>Intel Core i5</td>\n",
       "      <td>Intel</td>\n",
       "    </tr>\n",
       "    <tr>\n",
       "      <th>2</th>\n",
       "      <td>HP</td>\n",
       "      <td>Notebook</td>\n",
       "      <td>15.6</td>\n",
       "      <td>8</td>\n",
       "      <td>256GB SSD</td>\n",
       "      <td>Other</td>\n",
       "      <td>1.86</td>\n",
       "      <td>30636.0000</td>\n",
       "      <td>0</td>\n",
       "      <td>0</td>\n",
       "      <td>1080</td>\n",
       "      <td>1920</td>\n",
       "      <td>141.0</td>\n",
       "      <td>Intel Core i5</td>\n",
       "      <td>Intel</td>\n",
       "    </tr>\n",
       "    <tr>\n",
       "      <th>3</th>\n",
       "      <td>Apple</td>\n",
       "      <td>Ultrabook</td>\n",
       "      <td>15.4</td>\n",
       "      <td>16</td>\n",
       "      <td>512GB SSD</td>\n",
       "      <td>Mac</td>\n",
       "      <td>1.83</td>\n",
       "      <td>135195.3360</td>\n",
       "      <td>0</td>\n",
       "      <td>1</td>\n",
       "      <td>1800</td>\n",
       "      <td>2880</td>\n",
       "      <td>221.0</td>\n",
       "      <td>Intel Core i7</td>\n",
       "      <td>AMD</td>\n",
       "    </tr>\n",
       "    <tr>\n",
       "      <th>4</th>\n",
       "      <td>Apple</td>\n",
       "      <td>Ultrabook</td>\n",
       "      <td>13.3</td>\n",
       "      <td>8</td>\n",
       "      <td>256GB SSD</td>\n",
       "      <td>Mac</td>\n",
       "      <td>1.37</td>\n",
       "      <td>96095.8080</td>\n",
       "      <td>0</td>\n",
       "      <td>1</td>\n",
       "      <td>1600</td>\n",
       "      <td>2560</td>\n",
       "      <td>227.0</td>\n",
       "      <td>Intel Core i5</td>\n",
       "      <td>Intel</td>\n",
       "    </tr>\n",
       "  </tbody>\n",
       "</table>\n",
       "</div>"
      ],
      "text/plain": [
       "  Company   TypeName  Inches Ram               Memory  OpSys Weight  \\\n",
       "0   Apple  Ultrabook    13.3   8            128GB SSD    Mac   1.37   \n",
       "1   Apple  Ultrabook    13.3   8  128GB Flash Storage    Mac   1.34   \n",
       "2      HP   Notebook    15.6   8            256GB SSD  Other   1.86   \n",
       "3   Apple  Ultrabook    15.4  16            512GB SSD    Mac   1.83   \n",
       "4   Apple  Ultrabook    13.3   8            256GB SSD    Mac   1.37   \n",
       "\n",
       "         Price  Touchscreen  IPS  X_res  A_res    PPI      CPU Brand    GPU  \n",
       "0   71378.6832            0    1   1600   2560  227.0  Intel Core i5  Intel  \n",
       "1   47895.5232            0    0    900   1440  128.0  Intel Core i5  Intel  \n",
       "2   30636.0000            0    0   1080   1920  141.0  Intel Core i5  Intel  \n",
       "3  135195.3360            0    1   1800   2880  221.0  Intel Core i7    AMD  \n",
       "4   96095.8080            0    1   1600   2560  227.0  Intel Core i5  Intel  "
      ]
     },
     "execution_count": 38,
     "metadata": {},
     "output_type": "execute_result"
    }
   ],
   "source": [
    "dataset.head()"
   ]
  },
  {
   "cell_type": "code",
   "execution_count": 39,
   "id": "8ff73d6d",
   "metadata": {},
   "outputs": [],
   "source": [
    "# For Memory finding a complicated task is required which is shown below"
   ]
  },
  {
   "cell_type": "code",
   "execution_count": 40,
   "id": "0bcd2432",
   "metadata": {},
   "outputs": [],
   "source": [
    "dataset['Memory'] = dataset['Memory'].astype(str).replace('\\.0', '', regex=True)\n",
    "dataset[\"Memory\"] = dataset[\"Memory\"].str.replace('GB', '')\n",
    "dataset[\"Memory\"] = dataset[\"Memory\"].str.replace('TB', '000')\n",
    "new = dataset[\"Memory\"].str.split(\"+\", n = 1, expand = True)\n",
    "\n",
    "dataset[\"first\"]= new[0]\n",
    "dataset[\"first\"]=dataset[\"first\"].str.strip()\n",
    "\n",
    "dataset[\"second\"]= new[1]\n",
    "\n",
    "dataset[\"Layer1HDD\"] = dataset[\"first\"].apply(lambda x: 1 if \"HDD\" in x else 0)\n",
    "dataset[\"Layer1SSD\"] = dataset[\"first\"].apply(lambda x: 1 if \"SSD\" in x else 0)\n",
    "dataset[\"Layer1Hybrid\"] = dataset[\"first\"].apply(lambda x: 1 if \"Hybrid\" in x else 0)\n",
    "dataset[\"Layer1Flash_Storage\"] = dataset[\"first\"].apply(lambda x: 1 if \"Flash Storage\" in x else 0)\n",
    "\n",
    "dataset['first'] = dataset['first'].str.replace(r'\\D', '')\n",
    "\n",
    "dataset[\"second\"].fillna(\"0\", inplace = True)\n",
    "\n",
    "dataset[\"Layer2HDD\"] = dataset[\"second\"].apply(lambda x: 1 if \"HDD\" in x else 0)\n",
    "dataset[\"Layer2SSD\"] = dataset[\"second\"].apply(lambda x: 1 if \"SSD\" in x else 0)\n",
    "dataset[\"Layer2Hybrid\"] = dataset[\"second\"].apply(lambda x: 1 if \"Hybrid\" in x else 0)\n",
    "dataset[\"Layer2Flash_Storage\"] = dataset[\"second\"].apply(lambda x: 1 if \"Flash Storage\" in x else 0)\n",
    "\n",
    "dataset['second'] = dataset['second'].str.replace(r'\\D', '')\n",
    "\n",
    "dataset[\"first\"] = dataset[\"first\"].astype(int)\n",
    "dataset[\"second\"] = dataset[\"second\"].astype(int)\n",
    "\n",
    "dataset[\"HDD\"]=(dataset[\"first\"]*dataset[\"Layer1HDD\"]+dataset[\"second\"]*dataset[\"Layer2HDD\"])\n",
    "dataset[\"SSD\"]=(dataset[\"first\"]*dataset[\"Layer1SSD\"]+dataset[\"second\"]*dataset[\"Layer2SSD\"])\n",
    "dataset[\"Hybrid\"]=(dataset[\"first\"]*dataset[\"Layer1Hybrid\"]+dataset[\"second\"]*dataset[\"Layer2Hybrid\"])\n",
    "dataset[\"Flash_Storage\"]=(dataset[\"first\"]*dataset[\"Layer1Flash_Storage\"]+dataset[\"second\"]*dataset[\"Layer2Flash_Storage\"])\n",
    "\n",
    "dataset.drop(columns=['first', 'second', 'Layer1HDD', 'Layer1SSD', 'Layer1Hybrid',\n",
    "       'Layer1Flash_Storage', 'Layer2HDD', 'Layer2SSD', 'Layer2Hybrid',\n",
    "       'Layer2Flash_Storage'],inplace=True)"
   ]
  },
  {
   "cell_type": "code",
   "execution_count": 41,
   "id": "d8d05360",
   "metadata": {},
   "outputs": [
    {
     "data": {
      "text/html": [
       "<div>\n",
       "<style scoped>\n",
       "    .dataframe tbody tr th:only-of-type {\n",
       "        vertical-align: middle;\n",
       "    }\n",
       "\n",
       "    .dataframe tbody tr th {\n",
       "        vertical-align: top;\n",
       "    }\n",
       "\n",
       "    .dataframe thead th {\n",
       "        text-align: right;\n",
       "    }\n",
       "</style>\n",
       "<table border=\"1\" class=\"dataframe\">\n",
       "  <thead>\n",
       "    <tr style=\"text-align: right;\">\n",
       "      <th></th>\n",
       "      <th>Company</th>\n",
       "      <th>TypeName</th>\n",
       "      <th>Inches</th>\n",
       "      <th>Ram</th>\n",
       "      <th>Memory</th>\n",
       "      <th>OpSys</th>\n",
       "      <th>Weight</th>\n",
       "      <th>Price</th>\n",
       "      <th>Touchscreen</th>\n",
       "      <th>IPS</th>\n",
       "      <th>X_res</th>\n",
       "      <th>A_res</th>\n",
       "      <th>PPI</th>\n",
       "      <th>CPU Brand</th>\n",
       "      <th>GPU</th>\n",
       "      <th>HDD</th>\n",
       "      <th>SSD</th>\n",
       "      <th>Hybrid</th>\n",
       "      <th>Flash_Storage</th>\n",
       "    </tr>\n",
       "  </thead>\n",
       "  <tbody>\n",
       "    <tr>\n",
       "      <th>0</th>\n",
       "      <td>Apple</td>\n",
       "      <td>Ultrabook</td>\n",
       "      <td>13.3</td>\n",
       "      <td>8</td>\n",
       "      <td>128 SSD</td>\n",
       "      <td>Mac</td>\n",
       "      <td>1.37</td>\n",
       "      <td>71378.6832</td>\n",
       "      <td>0</td>\n",
       "      <td>1</td>\n",
       "      <td>1600</td>\n",
       "      <td>2560</td>\n",
       "      <td>227.0</td>\n",
       "      <td>Intel Core i5</td>\n",
       "      <td>Intel</td>\n",
       "      <td>0</td>\n",
       "      <td>128</td>\n",
       "      <td>0</td>\n",
       "      <td>0</td>\n",
       "    </tr>\n",
       "    <tr>\n",
       "      <th>1</th>\n",
       "      <td>Apple</td>\n",
       "      <td>Ultrabook</td>\n",
       "      <td>13.3</td>\n",
       "      <td>8</td>\n",
       "      <td>128 Flash Storage</td>\n",
       "      <td>Mac</td>\n",
       "      <td>1.34</td>\n",
       "      <td>47895.5232</td>\n",
       "      <td>0</td>\n",
       "      <td>0</td>\n",
       "      <td>900</td>\n",
       "      <td>1440</td>\n",
       "      <td>128.0</td>\n",
       "      <td>Intel Core i5</td>\n",
       "      <td>Intel</td>\n",
       "      <td>0</td>\n",
       "      <td>0</td>\n",
       "      <td>0</td>\n",
       "      <td>128</td>\n",
       "    </tr>\n",
       "    <tr>\n",
       "      <th>2</th>\n",
       "      <td>HP</td>\n",
       "      <td>Notebook</td>\n",
       "      <td>15.6</td>\n",
       "      <td>8</td>\n",
       "      <td>256 SSD</td>\n",
       "      <td>Other</td>\n",
       "      <td>1.86</td>\n",
       "      <td>30636.0000</td>\n",
       "      <td>0</td>\n",
       "      <td>0</td>\n",
       "      <td>1080</td>\n",
       "      <td>1920</td>\n",
       "      <td>141.0</td>\n",
       "      <td>Intel Core i5</td>\n",
       "      <td>Intel</td>\n",
       "      <td>0</td>\n",
       "      <td>256</td>\n",
       "      <td>0</td>\n",
       "      <td>0</td>\n",
       "    </tr>\n",
       "    <tr>\n",
       "      <th>3</th>\n",
       "      <td>Apple</td>\n",
       "      <td>Ultrabook</td>\n",
       "      <td>15.4</td>\n",
       "      <td>16</td>\n",
       "      <td>512 SSD</td>\n",
       "      <td>Mac</td>\n",
       "      <td>1.83</td>\n",
       "      <td>135195.3360</td>\n",
       "      <td>0</td>\n",
       "      <td>1</td>\n",
       "      <td>1800</td>\n",
       "      <td>2880</td>\n",
       "      <td>221.0</td>\n",
       "      <td>Intel Core i7</td>\n",
       "      <td>AMD</td>\n",
       "      <td>0</td>\n",
       "      <td>512</td>\n",
       "      <td>0</td>\n",
       "      <td>0</td>\n",
       "    </tr>\n",
       "    <tr>\n",
       "      <th>4</th>\n",
       "      <td>Apple</td>\n",
       "      <td>Ultrabook</td>\n",
       "      <td>13.3</td>\n",
       "      <td>8</td>\n",
       "      <td>256 SSD</td>\n",
       "      <td>Mac</td>\n",
       "      <td>1.37</td>\n",
       "      <td>96095.8080</td>\n",
       "      <td>0</td>\n",
       "      <td>1</td>\n",
       "      <td>1600</td>\n",
       "      <td>2560</td>\n",
       "      <td>227.0</td>\n",
       "      <td>Intel Core i5</td>\n",
       "      <td>Intel</td>\n",
       "      <td>0</td>\n",
       "      <td>256</td>\n",
       "      <td>0</td>\n",
       "      <td>0</td>\n",
       "    </tr>\n",
       "  </tbody>\n",
       "</table>\n",
       "</div>"
      ],
      "text/plain": [
       "  Company   TypeName  Inches Ram             Memory  OpSys Weight  \\\n",
       "0   Apple  Ultrabook    13.3   8            128 SSD    Mac   1.37   \n",
       "1   Apple  Ultrabook    13.3   8  128 Flash Storage    Mac   1.34   \n",
       "2      HP   Notebook    15.6   8            256 SSD  Other   1.86   \n",
       "3   Apple  Ultrabook    15.4  16            512 SSD    Mac   1.83   \n",
       "4   Apple  Ultrabook    13.3   8            256 SSD    Mac   1.37   \n",
       "\n",
       "         Price  Touchscreen  IPS  X_res  A_res    PPI      CPU Brand    GPU  \\\n",
       "0   71378.6832            0    1   1600   2560  227.0  Intel Core i5  Intel   \n",
       "1   47895.5232            0    0    900   1440  128.0  Intel Core i5  Intel   \n",
       "2   30636.0000            0    0   1080   1920  141.0  Intel Core i5  Intel   \n",
       "3  135195.3360            0    1   1800   2880  221.0  Intel Core i7    AMD   \n",
       "4   96095.8080            0    1   1600   2560  227.0  Intel Core i5  Intel   \n",
       "\n",
       "   HDD  SSD  Hybrid  Flash_Storage  \n",
       "0    0  128       0              0  \n",
       "1    0    0       0            128  \n",
       "2    0  256       0              0  \n",
       "3    0  512       0              0  \n",
       "4    0  256       0              0  "
      ]
     },
     "execution_count": 41,
     "metadata": {},
     "output_type": "execute_result"
    }
   ],
   "source": [
    "dataset.head()"
   ]
  },
  {
   "cell_type": "code",
   "execution_count": 42,
   "id": "ba267e1c",
   "metadata": {},
   "outputs": [],
   "source": [
    "dataset = dataset.drop([\"Memory\",\"Flash_Storage\"], axis =1)"
   ]
  },
  {
   "cell_type": "code",
   "execution_count": 43,
   "id": "60643785",
   "metadata": {},
   "outputs": [
    {
     "name": "stdout",
     "output_type": "stream",
     "text": [
      "<class 'pandas.core.frame.DataFrame'>\n",
      "RangeIndex: 1303 entries, 0 to 1302\n",
      "Data columns (total 17 columns):\n",
      " #   Column       Non-Null Count  Dtype  \n",
      "---  ------       --------------  -----  \n",
      " 0   Company      1303 non-null   object \n",
      " 1   TypeName     1303 non-null   object \n",
      " 2   Inches       1303 non-null   float64\n",
      " 3   Ram          1303 non-null   object \n",
      " 4   OpSys        1303 non-null   object \n",
      " 5   Weight       1303 non-null   object \n",
      " 6   Price        1303 non-null   float64\n",
      " 7   Touchscreen  1303 non-null   int64  \n",
      " 8   IPS          1303 non-null   int64  \n",
      " 9   X_res        1303 non-null   int32  \n",
      " 10  A_res        1303 non-null   int32  \n",
      " 11  PPI          1303 non-null   float64\n",
      " 12  CPU Brand    1303 non-null   object \n",
      " 13  GPU          1303 non-null   object \n",
      " 14  HDD          1303 non-null   int64  \n",
      " 15  SSD          1303 non-null   int64  \n",
      " 16  Hybrid       1303 non-null   int64  \n",
      "dtypes: float64(3), int32(2), int64(5), object(7)\n",
      "memory usage: 163.0+ KB\n"
     ]
    }
   ],
   "source": [
    "dataset.info()"
   ]
  },
  {
   "cell_type": "code",
   "execution_count": 44,
   "id": "8974861f",
   "metadata": {},
   "outputs": [],
   "source": [
    "# Convert the numerical form object variable to int/float."
   ]
  },
  {
   "cell_type": "code",
   "execution_count": 45,
   "id": "4fc1c1b2",
   "metadata": {},
   "outputs": [],
   "source": [
    "dataset[\"Ram\"] = dataset[\"Ram\"].astype(\"int32\")"
   ]
  },
  {
   "cell_type": "code",
   "execution_count": 46,
   "id": "87e2e8b1",
   "metadata": {},
   "outputs": [],
   "source": [
    "dataset[\"Weight\"] = dataset[\"Weight\"].astype(\"float\")"
   ]
  },
  {
   "cell_type": "code",
   "execution_count": 47,
   "id": "776d77c1",
   "metadata": {},
   "outputs": [],
   "source": [
    "dataset = dataset.drop([\"Inches\",\"X_res\",\"A_res\"],axis=1)"
   ]
  },
  {
   "cell_type": "markdown",
   "id": "6d564e21",
   "metadata": {},
   "source": [
    "# Done with feature engineering and extraction which has been a little complicated task here."
   ]
  },
  {
   "cell_type": "markdown",
   "id": "a0a3fa63",
   "metadata": {},
   "source": [
    "# Pre-Processing Step-3: Outlier Identification"
   ]
  },
  {
   "cell_type": "code",
   "execution_count": 48,
   "id": "1da4d412",
   "metadata": {},
   "outputs": [],
   "source": [
    "#Lets begin with statistical Analysis"
   ]
  },
  {
   "cell_type": "code",
   "execution_count": 49,
   "id": "cf73ef0a",
   "metadata": {},
   "outputs": [
    {
     "data": {
      "text/html": [
       "<div>\n",
       "<style scoped>\n",
       "    .dataframe tbody tr th:only-of-type {\n",
       "        vertical-align: middle;\n",
       "    }\n",
       "\n",
       "    .dataframe tbody tr th {\n",
       "        vertical-align: top;\n",
       "    }\n",
       "\n",
       "    .dataframe thead th {\n",
       "        text-align: right;\n",
       "    }\n",
       "</style>\n",
       "<table border=\"1\" class=\"dataframe\">\n",
       "  <thead>\n",
       "    <tr style=\"text-align: right;\">\n",
       "      <th></th>\n",
       "      <th>Ram</th>\n",
       "      <th>Weight</th>\n",
       "      <th>Price</th>\n",
       "      <th>Touchscreen</th>\n",
       "      <th>IPS</th>\n",
       "      <th>PPI</th>\n",
       "      <th>HDD</th>\n",
       "      <th>SSD</th>\n",
       "      <th>Hybrid</th>\n",
       "    </tr>\n",
       "  </thead>\n",
       "  <tbody>\n",
       "    <tr>\n",
       "      <th>count</th>\n",
       "      <td>1303.000000</td>\n",
       "      <td>1303.000000</td>\n",
       "      <td>1303.000000</td>\n",
       "      <td>1303.0</td>\n",
       "      <td>1303.000000</td>\n",
       "      <td>1303.000000</td>\n",
       "      <td>1303.000000</td>\n",
       "      <td>1303.000000</td>\n",
       "      <td>1303.000000</td>\n",
       "    </tr>\n",
       "    <tr>\n",
       "      <th>mean</th>\n",
       "      <td>8.382195</td>\n",
       "      <td>2.038734</td>\n",
       "      <td>59870.042910</td>\n",
       "      <td>0.0</td>\n",
       "      <td>0.280123</td>\n",
       "      <td>146.442057</td>\n",
       "      <td>413.783576</td>\n",
       "      <td>183.732924</td>\n",
       "      <td>8.831926</td>\n",
       "    </tr>\n",
       "    <tr>\n",
       "      <th>std</th>\n",
       "      <td>5.084665</td>\n",
       "      <td>0.665475</td>\n",
       "      <td>37243.201786</td>\n",
       "      <td>0.0</td>\n",
       "      <td>0.449231</td>\n",
       "      <td>43.197999</td>\n",
       "      <td>515.818779</td>\n",
       "      <td>186.966903</td>\n",
       "      <td>92.567185</td>\n",
       "    </tr>\n",
       "    <tr>\n",
       "      <th>min</th>\n",
       "      <td>2.000000</td>\n",
       "      <td>0.690000</td>\n",
       "      <td>9270.720000</td>\n",
       "      <td>0.0</td>\n",
       "      <td>0.000000</td>\n",
       "      <td>91.000000</td>\n",
       "      <td>0.000000</td>\n",
       "      <td>0.000000</td>\n",
       "      <td>0.000000</td>\n",
       "    </tr>\n",
       "    <tr>\n",
       "      <th>25%</th>\n",
       "      <td>4.000000</td>\n",
       "      <td>1.500000</td>\n",
       "      <td>31914.720000</td>\n",
       "      <td>0.0</td>\n",
       "      <td>0.000000</td>\n",
       "      <td>127.000000</td>\n",
       "      <td>0.000000</td>\n",
       "      <td>0.000000</td>\n",
       "      <td>0.000000</td>\n",
       "    </tr>\n",
       "    <tr>\n",
       "      <th>50%</th>\n",
       "      <td>8.000000</td>\n",
       "      <td>2.040000</td>\n",
       "      <td>52054.560000</td>\n",
       "      <td>0.0</td>\n",
       "      <td>0.000000</td>\n",
       "      <td>141.000000</td>\n",
       "      <td>0.000000</td>\n",
       "      <td>256.000000</td>\n",
       "      <td>0.000000</td>\n",
       "    </tr>\n",
       "    <tr>\n",
       "      <th>75%</th>\n",
       "      <td>8.000000</td>\n",
       "      <td>2.300000</td>\n",
       "      <td>79274.246400</td>\n",
       "      <td>0.0</td>\n",
       "      <td>1.000000</td>\n",
       "      <td>157.000000</td>\n",
       "      <td>1000.000000</td>\n",
       "      <td>256.000000</td>\n",
       "      <td>0.000000</td>\n",
       "    </tr>\n",
       "    <tr>\n",
       "      <th>max</th>\n",
       "      <td>64.000000</td>\n",
       "      <td>4.700000</td>\n",
       "      <td>324954.720000</td>\n",
       "      <td>0.0</td>\n",
       "      <td>1.000000</td>\n",
       "      <td>352.000000</td>\n",
       "      <td>2000.000000</td>\n",
       "      <td>1024.000000</td>\n",
       "      <td>1000.000000</td>\n",
       "    </tr>\n",
       "  </tbody>\n",
       "</table>\n",
       "</div>"
      ],
      "text/plain": [
       "               Ram       Weight          Price  Touchscreen          IPS  \\\n",
       "count  1303.000000  1303.000000    1303.000000       1303.0  1303.000000   \n",
       "mean      8.382195     2.038734   59870.042910          0.0     0.280123   \n",
       "std       5.084665     0.665475   37243.201786          0.0     0.449231   \n",
       "min       2.000000     0.690000    9270.720000          0.0     0.000000   \n",
       "25%       4.000000     1.500000   31914.720000          0.0     0.000000   \n",
       "50%       8.000000     2.040000   52054.560000          0.0     0.000000   \n",
       "75%       8.000000     2.300000   79274.246400          0.0     1.000000   \n",
       "max      64.000000     4.700000  324954.720000          0.0     1.000000   \n",
       "\n",
       "               PPI          HDD          SSD       Hybrid  \n",
       "count  1303.000000  1303.000000  1303.000000  1303.000000  \n",
       "mean    146.442057   413.783576   183.732924     8.831926  \n",
       "std      43.197999   515.818779   186.966903    92.567185  \n",
       "min      91.000000     0.000000     0.000000     0.000000  \n",
       "25%     127.000000     0.000000     0.000000     0.000000  \n",
       "50%     141.000000     0.000000   256.000000     0.000000  \n",
       "75%     157.000000  1000.000000   256.000000     0.000000  \n",
       "max     352.000000  2000.000000  1024.000000  1000.000000  "
      ]
     },
     "execution_count": 49,
     "metadata": {},
     "output_type": "execute_result"
    }
   ],
   "source": [
    "dataset.describe()"
   ]
  },
  {
   "cell_type": "code",
   "execution_count": 50,
   "id": "cd31d517",
   "metadata": {},
   "outputs": [
    {
     "data": {
      "image/png": "[encoded data removed]",
      "text/plain": [
       "<Figure size 432x288 with 1 Axes>"
      ]
     },
     "metadata": {
      "needs_background": "light"
     },
     "output_type": "display_data"
    },
    {
     "data": {
      "image/png": "[encoded data removed]",
      "text/plain": [
       "<Figure size 432x288 with 1 Axes>"
      ]
     },
     "metadata": {
      "needs_background": "light"
     },
     "output_type": "display_data"
    },
    {
     "data": {
      "image/png": "[encoded data removed]",
      "text/plain": [
       "<Figure size 432x288 with 1 Axes>"
      ]
     },
     "metadata": {
      "needs_background": "light"
     },
     "output_type": "display_data"
    },
    {
     "data": {
      "image/png": "[encoded data removed]",
      "text/plain": [
       "<Figure size 432x288 with 1 Axes>"
      ]
     },
     "metadata": {
      "needs_background": "light"
     },
     "output_type": "display_data"
    },
    {
     "data": {
      "image/png": "[encoded data removed]",
      "text/plain": [
       "<Figure size 432x288 with 1 Axes>"
      ]
     },
     "metadata": {
      "needs_background": "light"
     },
     "output_type": "display_data"
    },
    {
     "data": {
      "image/png": "[encoded data removed]",
      "text/plain": [
       "<Figure size 432x288 with 1 Axes>"
      ]
     },
     "metadata": {
      "needs_background": "light"
     },
     "output_type": "display_data"
    },
    {
     "data": {
      "image/png": "[encoded data removed]",
      "text/plain": [
       "<Figure size 432x288 with 1 Axes>"
      ]
     },
     "metadata": {
      "needs_background": "light"
     },
     "output_type": "display_data"
    },
    {
     "data": {
      "image/png": "[encoded data removed]",
      "text/plain": [
       "<Figure size 432x288 with 1 Axes>"
      ]
     },
     "metadata": {
      "needs_background": "light"
     },
     "output_type": "display_data"
    },
    {
     "data": {
      "image/png": "[encoded data removed]",
      "text/plain": [
       "<Figure size 432x288 with 1 Axes>"
      ]
     },
     "metadata": {
      "needs_background": "light"
     },
     "output_type": "display_data"
    }
   ],
   "source": [
    "for i in dataset.columns:\n",
    "    if dataset[i].dtype != \"O\":\n",
    "        sns.boxplot(y = i,data = dataset)\n",
    "        plt.show()"
   ]
  },
  {
   "cell_type": "code",
   "execution_count": 51,
   "id": "f799a9e6",
   "metadata": {},
   "outputs": [],
   "source": [
    "#Not Treating Outlier as it doesnt look like there any major outliers"
   ]
  },
  {
   "cell_type": "markdown",
   "id": "c5034050",
   "metadata": {},
   "source": [
    "# EDA"
   ]
  },
  {
   "cell_type": "code",
   "execution_count": 52,
   "id": "db52a4d9",
   "metadata": {},
   "outputs": [],
   "source": [
    "Numerical_Features=[feature for feature in dataset.columns if dataset[feature].dtype !=\"O\"]"
   ]
  },
  {
   "cell_type": "code",
   "execution_count": 53,
   "id": "2fb2b5f0",
   "metadata": {},
   "outputs": [],
   "source": [
    "Categorical_Features=[feature for feature in dataset.columns if dataset[feature].dtype ==\"O\"]"
   ]
  },
  {
   "cell_type": "code",
   "execution_count": 54,
   "id": "b22058d8",
   "metadata": {},
   "outputs": [
    {
     "data": {
      "image/png": "[encoded data removed]",
      "text/plain": [
       "<Figure size 432x288 with 1 Axes>"
      ]
     },
     "metadata": {
      "needs_background": "light"
     },
     "output_type": "display_data"
    },
    {
     "data": {
      "image/png": "[encoded data removed]",
      "text/plain": [
       "<Figure size 432x288 with 1 Axes>"
      ]
     },
     "metadata": {
      "needs_background": "light"
     },
     "output_type": "display_data"
    },
    {
     "data": {
      "image/png": "[encoded data removed]",
      "text/plain": [
       "<Figure size 432x288 with 1 Axes>"
      ]
     },
     "metadata": {
      "needs_background": "light"
     },
     "output_type": "display_data"
    },
    {
     "data": {
      "image/png": "[encoded data removed]",
      "text/plain": [
       "<Figure size 432x288 with 1 Axes>"
      ]
     },
     "metadata": {
      "needs_background": "light"
     },
     "output_type": "display_data"
    },
    {
     "data": {
      "image/png": "[encoded data removed]",
      "text/plain": [
       "<Figure size 432x288 with 1 Axes>"
      ]
     },
     "metadata": {
      "needs_background": "light"
     },
     "output_type": "display_data"
    },
    {
     "data": {
      "image/png": "[encoded data removed]",
      "text/plain": [
       "<Figure size 432x288 with 1 Axes>"
      ]
     },
     "metadata": {
      "needs_background": "light"
     },
     "output_type": "display_data"
    },
    {
     "data": {
      "image/png": "[encoded data removed]",
      "text/plain": [
       "<Figure size 432x288 with 1 Axes>"
      ]
     },
     "metadata": {
      "needs_background": "light"
     },
     "output_type": "display_data"
    },
    {
     "data": {
      "image/png": "[encoded data removed]",
      "text/plain": [
       "<Figure size 432x288 with 1 Axes>"
      ]
     },
     "metadata": {
      "needs_background": "light"
     },
     "output_type": "display_data"
    },
    {
     "data": {
      "image/png": "[encoded data removed]",
      "text/plain": [
       "<Figure size 432x288 with 1 Axes>"
      ]
     },
     "metadata": {
      "needs_background": "light"
     },
     "output_type": "display_data"
    }
   ],
   "source": [
    "for feature in Numerical_Features:\n",
    "        dataset.groupby(feature)[\"Price\"].mean().plot(kind = \"bar\")\n",
    "        plt.show()"
   ]
  },
  {
   "cell_type": "code",
   "execution_count": 55,
   "id": "6642f8dc",
   "metadata": {},
   "outputs": [
    {
     "data": {
      "image/png": "[encoded data removed]",
      "text/plain": [
       "<Figure size 432x288 with 1 Axes>"
      ]
     },
     "metadata": {
      "needs_background": "light"
     },
     "output_type": "display_data"
    },
    {
     "data": {
      "image/png": "[encoded data removed]",
      "text/plain": [
       "<Figure size 432x288 with 1 Axes>"
      ]
     },
     "metadata": {
      "needs_background": "light"
     },
     "output_type": "display_data"
    },
    {
     "data": {
      "image/png": "[encoded data removed]",
      "text/plain": [
       "<Figure size 432x288 with 1 Axes>"
      ]
     },
     "metadata": {
      "needs_background": "light"
     },
     "output_type": "display_data"
    },
    {
     "data": {
      "image/png": "[encoded data removed]",
      "text/plain": [
       "<Figure size 432x288 with 1 Axes>"
      ]
     },
     "metadata": {
      "needs_background": "light"
     },
     "output_type": "display_data"
    },
    {
     "data": {
      "image/png": "[encoded data removed]",
      "text/plain": [
       "<Figure size 432x288 with 1 Axes>"
      ]
     },
     "metadata": {
      "needs_background": "light"
     },
     "output_type": "display_data"
    }
   ],
   "source": [
    "for feature in Categorical_Features:\n",
    "        dataset.groupby(feature)[\"Price\"].mean().plot(kind = \"bar\")\n",
    "        plt.show()"
   ]
  },
  {
   "cell_type": "code",
   "execution_count": 56,
   "id": "d185a6e6",
   "metadata": {},
   "outputs": [
    {
     "data": {
      "text/plain": [
       "<AxesSubplot:xlabel='Ram', ylabel='Price'>"
      ]
     },
     "execution_count": 56,
     "metadata": {},
     "output_type": "execute_result"
    },
    {
     "data": {
      "image/png": "[encoded data removed]",
      "text/plain": [
       "<Figure size 432x288 with 1 Axes>"
      ]
     },
     "metadata": {
      "needs_background": "light"
     },
     "output_type": "display_data"
    }
   ],
   "source": [
    "sns.barplot(x = dataset[\"Ram\"],y = dataset[\"Price\"])"
   ]
  },
  {
   "cell_type": "code",
   "execution_count": 57,
   "id": "660569fc",
   "metadata": {},
   "outputs": [
    {
     "data": {
      "image/png": "[encoded data removed]",
      "text/plain": [
       "<Figure size 432x288 with 1 Axes>"
      ]
     },
     "metadata": {
      "needs_background": "light"
     },
     "output_type": "display_data"
    }
   ],
   "source": [
    "sns.barplot(x = dataset[\"CPU Brand\"], y = dataset[\"Price\"])\n",
    "plt.xticks(rotation = 'vertical')\n",
    "plt.show()"
   ]
  },
  {
   "cell_type": "code",
   "execution_count": 58,
   "id": "c1d5e22a",
   "metadata": {},
   "outputs": [
    {
     "data": {
      "text/plain": [
       "<AxesSubplot:xlabel='OpSys', ylabel='Price'>"
      ]
     },
     "execution_count": 58,
     "metadata": {},
     "output_type": "execute_result"
    },
    {
     "data": {
      "image/png": "[encoded data removed]",
      "text/plain": [
       "<Figure size 432x288 with 1 Axes>"
      ]
     },
     "metadata": {
      "needs_background": "light"
     },
     "output_type": "display_data"
    }
   ],
   "source": [
    "sns.barplot(x=dataset[\"OpSys\"], y =\"Price\",data= dataset, palette = \"viridis\", saturation = 4)"
   ]
  },
  {
   "cell_type": "code",
   "execution_count": 59,
   "id": "282b41f1",
   "metadata": {},
   "outputs": [
    {
     "data": {
      "text/plain": [
       "<AxesSubplot:xlabel='OpSys', ylabel='Price'>"
      ]
     },
     "execution_count": 59,
     "metadata": {},
     "output_type": "execute_result"
    },
    {
     "data": {
      "image/png": "[encoded data removed]",
      "text/plain": [
       "<Figure size 864x432 with 1 Axes>"
      ]
     },
     "metadata": {
      "needs_background": "light"
     },
     "output_type": "display_data"
    }
   ],
   "source": [
    "plt.figure(figsize =(12,6))\n",
    "sns.barplot(x=dataset[\"OpSys\"], y =\"Price\", hue = \"Ram\", data= dataset, palette = \"plasma\", saturation = 4)"
   ]
  },
  {
   "cell_type": "code",
   "execution_count": 60,
   "id": "9b9b2b06",
   "metadata": {},
   "outputs": [],
   "source": [
    "# Windows laptop with 64GB and 32GB Ram are most expensive"
   ]
  },
  {
   "cell_type": "code",
   "execution_count": 61,
   "id": "198231d3",
   "metadata": {},
   "outputs": [
    {
     "data": {
      "text/plain": [
       "<AxesSubplot:xlabel='OpSys', ylabel='Price'>"
      ]
     },
     "execution_count": 61,
     "metadata": {},
     "output_type": "execute_result"
    },
    {
     "data": {
      "image/png": "[encoded data removed]",
      "text/plain": [
       "<Figure size 864x648 with 1 Axes>"
      ]
     },
     "metadata": {
      "needs_background": "light"
     },
     "output_type": "display_data"
    }
   ],
   "source": [
    "plt.figure(figsize = (12,9))\n",
    "sns.barplot(x=dataset[\"OpSys\"], y =\"Price\", hue = \"CPU Brand\", data= dataset, palette = \"plasma\", saturation = 4)"
   ]
  },
  {
   "cell_type": "code",
   "execution_count": 62,
   "id": "6c178dd1",
   "metadata": {},
   "outputs": [],
   "source": [
    "# As expected intel core i7 are most expensive, mac with core i7 tops the table"
   ]
  },
  {
   "cell_type": "code",
   "execution_count": 63,
   "id": "89711ce4",
   "metadata": {},
   "outputs": [
    {
     "data": {
      "text/plain": [
       "<AxesSubplot:xlabel='Touchscreen', ylabel='Price'>"
      ]
     },
     "execution_count": 63,
     "metadata": {},
     "output_type": "execute_result"
    },
    {
     "data": {
      "image/png": "[encoded data removed]",
      "text/plain": [
       "<Figure size 432x288 with 1 Axes>"
      ]
     },
     "metadata": {
      "needs_background": "light"
     },
     "output_type": "display_data"
    }
   ],
   "source": [
    "sns.barplot(x = dataset[\"Touchscreen\"], y = dataset[\"Price\"])"
   ]
  },
  {
   "cell_type": "code",
   "execution_count": 64,
   "id": "a6fff715",
   "metadata": {},
   "outputs": [
    {
     "data": {
      "text/plain": [
       "<AxesSubplot:xlabel='IPS', ylabel='Price'>"
      ]
     },
     "execution_count": 64,
     "metadata": {},
     "output_type": "execute_result"
    },
    {
     "data": {
      "image/png": "[encoded data removed]",
      "text/plain": [
       "<Figure size 432x288 with 1 Axes>"
      ]
     },
     "metadata": {
      "needs_background": "light"
     },
     "output_type": "display_data"
    }
   ],
   "source": [
    "sns.barplot(x=dataset[\"IPS\"], y = dataset[\"Price\"],  errcolor='.1')"
   ]
  },
  {
   "cell_type": "code",
   "execution_count": 65,
   "id": "3eb34d94",
   "metadata": {},
   "outputs": [
    {
     "data": {
      "image/png": "[encoded data removed]",
      "text/plain": [
       "<Figure size 432x288 with 1 Axes>"
      ]
     },
     "metadata": {
      "needs_background": "light"
     },
     "output_type": "display_data"
    }
   ],
   "source": [
    "sns.barplot(x=dataset[\"Company\"],y = dataset[\"Price\"])\n",
    "plt.xticks(rotation='vertical')\n",
    "plt.show()"
   ]
  },
  {
   "cell_type": "code",
   "execution_count": 66,
   "id": "da5fecc8",
   "metadata": {},
   "outputs": [
    {
     "data": {
      "text/plain": [
       "<AxesSubplot:>"
      ]
     },
     "execution_count": 66,
     "metadata": {},
     "output_type": "execute_result"
    },
    {
     "data": {
      "image/png": "[encoded data removed]",
      "text/plain": [
       "<Figure size 432x288 with 1 Axes>"
      ]
     },
     "metadata": {
      "needs_background": "light"
     },
     "output_type": "display_data"
    }
   ],
   "source": [
    "dataset[\"Company\"].value_counts().plot(kind = \"bar\", color = \"y\")"
   ]
  },
  {
   "cell_type": "code",
   "execution_count": 67,
   "id": "afd44b7e",
   "metadata": {},
   "outputs": [
    {
     "data": {
      "image/png": "[encoded data removed]",
      "text/plain": [
       "<Figure size 432x288 with 1 Axes>"
      ]
     },
     "metadata": {
      "needs_background": "light"
     },
     "output_type": "display_data"
    }
   ],
   "source": [
    "sns.barplot(x=dataset[\"SSD\"],y = dataset[\"Price\"])\n",
    "plt.xticks(rotation='vertical')\n",
    "plt.show()"
   ]
  },
  {
   "cell_type": "code",
   "execution_count": 68,
   "id": "dbfc7d04",
   "metadata": {},
   "outputs": [
    {
     "data": {
      "text/plain": [
       "Price          1.000000\n",
       "Ram            0.743007\n",
       "SSD            0.670799\n",
       "PPI            0.473579\n",
       "IPS            0.252208\n",
       "Weight         0.210370\n",
       "Hybrid         0.007989\n",
       "HDD           -0.096441\n",
       "Touchscreen         NaN\n",
       "Name: Price, dtype: float64"
      ]
     },
     "execution_count": 68,
     "metadata": {},
     "output_type": "execute_result"
    }
   ],
   "source": [
    "dataset.corr()[\"Price\"].sort_values(ascending = False)"
   ]
  },
  {
   "cell_type": "code",
   "execution_count": 69,
   "id": "0cced3b3",
   "metadata": {},
   "outputs": [
    {
     "data": {
      "text/plain": [
       "<AxesSubplot:xlabel='Hybrid', ylabel='Price'>"
      ]
     },
     "execution_count": 69,
     "metadata": {},
     "output_type": "execute_result"
    },
    {
     "data": {
      "image/png": "[encoded data removed]",
      "text/plain": [
       "<Figure size 432x288 with 1 Axes>"
      ]
     },
     "metadata": {
      "needs_background": "light"
     },
     "output_type": "display_data"
    }
   ],
   "source": [
    "sns.scatterplot(x= dataset[\"Hybrid\"], y = dataset[\"Price\"])"
   ]
  },
  {
   "cell_type": "code",
   "execution_count": 70,
   "id": "926fcbf6",
   "metadata": {},
   "outputs": [
    {
     "data": {
      "text/plain": [
       "<AxesSubplot:xlabel='HDD', ylabel='Price'>"
      ]
     },
     "execution_count": 70,
     "metadata": {},
     "output_type": "execute_result"
    },
    {
     "data": {
      "image/png": "[encoded data removed]",
      "text/plain": [
       "<Figure size 432x288 with 1 Axes>"
      ]
     },
     "metadata": {
      "needs_background": "light"
     },
     "output_type": "display_data"
    }
   ],
   "source": [
    "sns.scatterplot(x= dataset[\"HDD\"], y = dataset[\"Price\"])"
   ]
  },
  {
   "cell_type": "code",
   "execution_count": 71,
   "id": "2b54db6d",
   "metadata": {},
   "outputs": [],
   "source": [
    "dataset = dataset.drop([\"HDD\",\"Hybrid\"], axis =1)"
   ]
  },
  {
   "cell_type": "code",
   "execution_count": 72,
   "id": "25eee460",
   "metadata": {},
   "outputs": [
    {
     "data": {
      "image/png": "[encoded data removed]",
      "text/plain": [
       "<Figure size 432x288 with 1 Axes>"
      ]
     },
     "metadata": {
      "needs_background": "light"
     },
     "output_type": "display_data"
    }
   ],
   "source": [
    "sns.barplot(x=dataset[\"TypeName\"],y = dataset[\"Price\"])\n",
    "plt.xticks(rotation = \"vertical\")\n",
    "plt.show()"
   ]
  },
  {
   "cell_type": "code",
   "execution_count": 73,
   "id": "e3f25823",
   "metadata": {},
   "outputs": [
    {
     "data": {
      "text/plain": [
       "<AxesSubplot:xlabel='Price', ylabel='Density'>"
      ]
     },
     "execution_count": 73,
     "metadata": {},
     "output_type": "execute_result"
    },
    {
     "data": {
      "image/png": "[encoded data removed]",
      "text/plain": [
       "<Figure size 432x288 with 1 Axes>"
      ]
     },
     "metadata": {
      "needs_background": "light"
     },
     "output_type": "display_data"
    }
   ],
   "source": [
    "sns.distplot(dataset[\"Price\"])"
   ]
  },
  {
   "cell_type": "code",
   "execution_count": 74,
   "id": "320f3526",
   "metadata": {},
   "outputs": [
    {
     "data": {
      "text/plain": [
       "<AxesSubplot:xlabel='Price', ylabel='Density'>"
      ]
     },
     "execution_count": 74,
     "metadata": {},
     "output_type": "execute_result"
    },
    {
     "data": {
      "image/png": "[encoded data removed]",
      "text/plain": [
       "<Figure size 432x288 with 1 Axes>"
      ]
     },
     "metadata": {
      "needs_background": "light"
     },
     "output_type": "display_data"
    }
   ],
   "source": [
    "sns.distplot(np.log(dataset[\"Price\"]))"
   ]
  },
  {
   "cell_type": "markdown",
   "id": "5861c2d9",
   "metadata": {},
   "source": [
    "# Spliting the Dataset into X and Y"
   ]
  },
  {
   "cell_type": "code",
   "execution_count": 75,
   "id": "5e526452",
   "metadata": {},
   "outputs": [],
   "source": [
    "x = dataset.drop([\"Price\"], axis =1)\n",
    "y = np.log(dataset[\"Price\"])"
   ]
  },
  {
   "cell_type": "code",
   "execution_count": 128,
   "id": "0cc9f991",
   "metadata": {},
   "outputs": [
    {
     "data": {
      "text/html": [
       "<div>\n",
       "<style scoped>\n",
       "    .dataframe tbody tr th:only-of-type {\n",
       "        vertical-align: middle;\n",
       "    }\n",
       "\n",
       "    .dataframe tbody tr th {\n",
       "        vertical-align: top;\n",
       "    }\n",
       "\n",
       "    .dataframe thead th {\n",
       "        text-align: right;\n",
       "    }\n",
       "</style>\n",
       "<table border=\"1\" class=\"dataframe\">\n",
       "  <thead>\n",
       "    <tr style=\"text-align: right;\">\n",
       "      <th></th>\n",
       "      <th>Company</th>\n",
       "      <th>TypeName</th>\n",
       "      <th>Ram</th>\n",
       "      <th>OpSys</th>\n",
       "      <th>Weight</th>\n",
       "      <th>Touchscreen</th>\n",
       "      <th>IPS</th>\n",
       "      <th>PPI</th>\n",
       "      <th>CPU Brand</th>\n",
       "      <th>GPU</th>\n",
       "      <th>SSD</th>\n",
       "    </tr>\n",
       "  </thead>\n",
       "  <tbody>\n",
       "    <tr>\n",
       "      <th>290</th>\n",
       "      <td>Acer</td>\n",
       "      <td>Notebook</td>\n",
       "      <td>2</td>\n",
       "      <td>Other</td>\n",
       "      <td>2.19</td>\n",
       "      <td>0</td>\n",
       "      <td>0</td>\n",
       "      <td>100.0</td>\n",
       "      <td>Other Intel Processor</td>\n",
       "      <td>Intel</td>\n",
       "      <td>16</td>\n",
       "    </tr>\n",
       "    <tr>\n",
       "      <th>757</th>\n",
       "      <td>HP</td>\n",
       "      <td>Workstation</td>\n",
       "      <td>8</td>\n",
       "      <td>Windows</td>\n",
       "      <td>2.59</td>\n",
       "      <td>0</td>\n",
       "      <td>0</td>\n",
       "      <td>141.0</td>\n",
       "      <td>Intel Core i7</td>\n",
       "      <td>Nvidia</td>\n",
       "      <td>256</td>\n",
       "    </tr>\n",
       "    <tr>\n",
       "      <th>762</th>\n",
       "      <td>Google</td>\n",
       "      <td>Ultrabook</td>\n",
       "      <td>8</td>\n",
       "      <td>Other</td>\n",
       "      <td>1.10</td>\n",
       "      <td>0</td>\n",
       "      <td>0</td>\n",
       "      <td>235.0</td>\n",
       "      <td>Intel Core i5</td>\n",
       "      <td>Intel</td>\n",
       "      <td>256</td>\n",
       "    </tr>\n",
       "    <tr>\n",
       "      <th>121</th>\n",
       "      <td>MSI</td>\n",
       "      <td>Gaming</td>\n",
       "      <td>16</td>\n",
       "      <td>Windows</td>\n",
       "      <td>1.80</td>\n",
       "      <td>0</td>\n",
       "      <td>0</td>\n",
       "      <td>141.0</td>\n",
       "      <td>Intel Core i7</td>\n",
       "      <td>Nvidia</td>\n",
       "      <td>256</td>\n",
       "    </tr>\n",
       "    <tr>\n",
       "      <th>532</th>\n",
       "      <td>Asus</td>\n",
       "      <td>Notebook</td>\n",
       "      <td>8</td>\n",
       "      <td>Windows</td>\n",
       "      <td>2.00</td>\n",
       "      <td>0</td>\n",
       "      <td>1</td>\n",
       "      <td>282.0</td>\n",
       "      <td>Intel Core i7</td>\n",
       "      <td>Nvidia</td>\n",
       "      <td>256</td>\n",
       "    </tr>\n",
       "  </tbody>\n",
       "</table>\n",
       "</div>"
      ],
      "text/plain": [
       "    Company     TypeName  Ram    OpSys  Weight  Touchscreen  IPS    PPI  \\\n",
       "290    Acer     Notebook    2    Other    2.19            0    0  100.0   \n",
       "757      HP  Workstation    8  Windows    2.59            0    0  141.0   \n",
       "762  Google    Ultrabook    8    Other    1.10            0    0  235.0   \n",
       "121     MSI       Gaming   16  Windows    1.80            0    0  141.0   \n",
       "532    Asus     Notebook    8  Windows    2.00            0    1  282.0   \n",
       "\n",
       "                 CPU Brand     GPU  SSD  \n",
       "290  Other Intel Processor   Intel   16  \n",
       "757          Intel Core i7  Nvidia  256  \n",
       "762          Intel Core i5   Intel  256  \n",
       "121          Intel Core i7  Nvidia  256  \n",
       "532          Intel Core i7  Nvidia  256  "
      ]
     },
     "execution_count": 128,
     "metadata": {},
     "output_type": "execute_result"
    }
   ],
   "source": [
    "x_train.head()"
   ]
  },
  {
   "cell_type": "markdown",
   "id": "a37571cd",
   "metadata": {},
   "source": [
    "# Splitting Into Train and Test"
   ]
  },
  {
   "cell_type": "code",
   "execution_count": 76,
   "id": "95f45106",
   "metadata": {},
   "outputs": [],
   "source": [
    "from sklearn.model_selection import train_test_split\n",
    "x_train,x_test,y_train,y_test = train_test_split(x,y,train_size=.75,random_state = 101)"
   ]
  },
  {
   "cell_type": "markdown",
   "id": "f8e53caa",
   "metadata": {},
   "source": [
    "# Model Applications"
   ]
  },
  {
   "cell_type": "code",
   "execution_count": 77,
   "id": "fd952a7f",
   "metadata": {},
   "outputs": [],
   "source": [
    "from sklearn.compose import ColumnTransformer\n",
    "from sklearn.pipeline import Pipeline\n",
    "from sklearn.preprocessing import OneHotEncoder\n",
    "from sklearn.metrics import r2_score, mean_absolute_error"
   ]
  },
  {
   "cell_type": "code",
   "execution_count": 78,
   "id": "f42e57c4",
   "metadata": {},
   "outputs": [],
   "source": [
    "from sklearn.linear_model import LinearRegression,Ridge,Lasso\n",
    "from sklearn.neighbors import KNeighborsRegressor\n",
    "from sklearn.tree import DecisionTreeRegressor\n",
    "from sklearn.ensemble import RandomForestRegressor,GradientBoostingRegressor,AdaBoostRegressor,ExtraTreesRegressor\n",
    "from sklearn.svm import SVR\n",
    "from xgboost import XGBRegressor"
   ]
  },
  {
   "cell_type": "markdown",
   "id": "d40fe5c0",
   "metadata": {},
   "source": [
    "# Model-1: Linear Regression "
   ]
  },
  {
   "cell_type": "code",
   "execution_count": 79,
   "id": "cd4ab209",
   "metadata": {},
   "outputs": [
    {
     "data": {
      "text/plain": [
       "Windows    1125\n",
       "Other        95\n",
       "Linux        62\n",
       "Mac          21\n",
       "Name: OpSys, dtype: int64"
      ]
     },
     "execution_count": 79,
     "metadata": {},
     "output_type": "execute_result"
    }
   ],
   "source": [
    "x[\"OpSys\"].value_counts()"
   ]
  },
  {
   "cell_type": "code",
   "execution_count": 80,
   "id": "97184bfb",
   "metadata": {},
   "outputs": [
    {
     "name": "stdout",
     "output_type": "stream",
     "text": [
      "R2 Score 0.8097037464314847\n",
      "MAE 0.20889837163315414\n"
     ]
    }
   ],
   "source": [
    "step1 = ColumnTransformer(transformers = [(\"col_trf\", OneHotEncoder(sparse = False, drop =\"first\", handle_unknown= 'ignore'),[0,1,3,8,9])],remainder='passthrough')\n",
    "step2= LinearRegression()\n",
    "pipe= Pipeline([(\"step1\",step1),\n",
    "              ('step2',step2)])\n",
    "pipe.fit(x_train,y_train)\n",
    "\n",
    "y_pred = pipe.predict(x_test)\n",
    "print(\"R2 Score\", r2_score(y_test,y_pred))\n",
    "print('MAE',mean_absolute_error(y_test,y_pred))"
   ]
  },
  {
   "cell_type": "code",
   "execution_count": 81,
   "id": "cf818df2",
   "metadata": {},
   "outputs": [
    {
     "name": "stdout",
     "output_type": "stream",
     "text": [
      "R2 Score 0.8011489030973376\n",
      "MAE 0.2132344074692681\n"
     ]
    }
   ],
   "source": [
    "step1 = ColumnTransformer(transformers = [(\"col_trf\", OneHotEncoder(sparse = False, drop =\"first\", handle_unknown= 'ignore'),[0,1,3,8,9])],remainder='passthrough')\n",
    "step2= Ridge(alpha =10)\n",
    "pipe= Pipeline([(\"step1\",step1),\n",
    "              ('step2',step2)])\n",
    "pipe.fit(x_train,y_train)\n",
    "\n",
    "y_pred = pipe.predict(x_test)\n",
    "print(\"R2 Score\", r2_score(y_test,y_pred))\n",
    "print('MAE',mean_absolute_error(y_test,y_pred))\n",
    "\n"
   ]
  },
  {
   "cell_type": "markdown",
   "id": "0451773b",
   "metadata": {},
   "source": [
    "# Model 2: Lasso"
   ]
  },
  {
   "cell_type": "code",
   "execution_count": 82,
   "id": "df6b8586",
   "metadata": {},
   "outputs": [
    {
     "name": "stdout",
     "output_type": "stream",
     "text": [
      "R2 score 0.8027908342815803\n",
      "MAE 0.2123097214601891\n"
     ]
    }
   ],
   "source": [
    "step1 = ColumnTransformer(transformers = [(\"col_trf\", OneHotEncoder(sparse = False, drop =\"first\", handle_unknown= 'ignore'),[0,1,3,8,9])],remainder='passthrough')\n",
    "\n",
    "step2 = Lasso(alpha=0.001)\n",
    "\n",
    "pipe = Pipeline([\n",
    "    ('step1',step1),\n",
    "    ('step2',step2)\n",
    "])\n",
    "\n",
    "pipe.fit(x_train,y_train)\n",
    "\n",
    "y_pred = pipe.predict(x_test)\n",
    "\n",
    "print('R2 score',r2_score(y_test,y_pred))\n",
    "print('MAE',mean_absolute_error(y_test,y_pred))"
   ]
  },
  {
   "cell_type": "markdown",
   "id": "0ae96580",
   "metadata": {},
   "source": [
    "# Model 3: Ridge"
   ]
  },
  {
   "cell_type": "code",
   "execution_count": 83,
   "id": "41fd5fb3",
   "metadata": {},
   "outputs": [
    {
     "name": "stdout",
     "output_type": "stream",
     "text": [
      "R2 score 0.7848291966261163\n",
      "MAE 0.20916583924893567\n"
     ]
    }
   ],
   "source": [
    "step1 = ColumnTransformer(transformers = [(\"col_trf\", OneHotEncoder(sparse = False, drop =\"first\", handle_unknown= 'ignore'),[0,1,3,8,9])],remainder='passthrough')\n",
    "\n",
    "\n",
    "step2 = DecisionTreeRegressor(max_depth=8)\n",
    "\n",
    "pipe = Pipeline([\n",
    "    ('step1',step1),\n",
    "    ('step2',step2)\n",
    "])\n",
    "\n",
    "pipe.fit(x_train,y_train)\n",
    "\n",
    "y_pred = pipe.predict(x_test)\n",
    "\n",
    "print('R2 score',r2_score(y_test,y_pred))\n",
    "print('MAE',mean_absolute_error(y_test,y_pred))"
   ]
  },
  {
   "cell_type": "markdown",
   "id": "afc91265",
   "metadata": {},
   "source": [
    "# Model 4: Random Forest "
   ]
  },
  {
   "cell_type": "code",
   "execution_count": 94,
   "id": "58558650",
   "metadata": {},
   "outputs": [
    {
     "data": {
      "text/html": [
       "<div>\n",
       "<style scoped>\n",
       "    .dataframe tbody tr th:only-of-type {\n",
       "        vertical-align: middle;\n",
       "    }\n",
       "\n",
       "    .dataframe tbody tr th {\n",
       "        vertical-align: top;\n",
       "    }\n",
       "\n",
       "    .dataframe thead th {\n",
       "        text-align: right;\n",
       "    }\n",
       "</style>\n",
       "<table border=\"1\" class=\"dataframe\">\n",
       "  <thead>\n",
       "    <tr style=\"text-align: right;\">\n",
       "      <th></th>\n",
       "      <th>Company</th>\n",
       "      <th>TypeName</th>\n",
       "      <th>Ram</th>\n",
       "      <th>OpSys</th>\n",
       "      <th>Weight</th>\n",
       "      <th>Touchscreen</th>\n",
       "      <th>IPS</th>\n",
       "      <th>PPI</th>\n",
       "      <th>CPU Brand</th>\n",
       "      <th>GPU</th>\n",
       "      <th>SSD</th>\n",
       "    </tr>\n",
       "  </thead>\n",
       "  <tbody>\n",
       "    <tr>\n",
       "      <th>0</th>\n",
       "      <td>Apple</td>\n",
       "      <td>Ultrabook</td>\n",
       "      <td>8</td>\n",
       "      <td>Mac</td>\n",
       "      <td>1.37</td>\n",
       "      <td>0</td>\n",
       "      <td>1</td>\n",
       "      <td>227.0</td>\n",
       "      <td>Intel Core i5</td>\n",
       "      <td>Intel</td>\n",
       "      <td>128</td>\n",
       "    </tr>\n",
       "  </tbody>\n",
       "</table>\n",
       "</div>"
      ],
      "text/plain": [
       "  Company   TypeName  Ram OpSys  Weight  Touchscreen  IPS    PPI  \\\n",
       "0   Apple  Ultrabook    8   Mac    1.37            0    1  227.0   \n",
       "\n",
       "       CPU Brand    GPU  SSD  \n",
       "0  Intel Core i5  Intel  128  "
      ]
     },
     "execution_count": 94,
     "metadata": {},
     "output_type": "execute_result"
    }
   ],
   "source": [
    "x.head(1)"
   ]
  },
  {
   "cell_type": "code",
   "execution_count": 99,
   "id": "74e898a9",
   "metadata": {},
   "outputs": [
    {
     "name": "stdout",
     "output_type": "stream",
     "text": [
      "R2 score 0.856596256981377\n",
      "MAE 0.17187454577538647\n"
     ]
    }
   ],
   "source": [
    "step1 = ColumnTransformer(transformers = [(\"col_trf\", OneHotEncoder(sparse = False, drop =\"first\", handle_unknown= 'ignore'),[0,1,3,8,9])],remainder='passthrough')\n",
    "\n",
    "\n",
    "step2 = RandomForestRegressor(n_estimators=100,\n",
    "                              random_state=3,\n",
    "                              max_samples=0.5,\n",
    "                              max_features=0.75,\n",
    "                              max_depth=15)\n",
    "\n",
    "pipe_rf = Pipeline([\n",
    "    ('step1',step1),\n",
    "    ('step2',step2)\n",
    "])\n",
    "\n",
    "pipe_rf.fit(x_train,y_train)\n",
    "\n",
    "y_pred = pipe_rf.predict(x_test)\n",
    "\n",
    "print('R2 score',r2_score(y_test,y_pred))\n",
    "print('MAE',mean_absolute_error(y_test,y_pred))"
   ]
  },
  {
   "cell_type": "code",
   "execution_count": 119,
   "id": "ec12d991",
   "metadata": {},
   "outputs": [
    {
     "name": "stdout",
     "output_type": "stream",
     "text": [
      "R2 score 0.856596256981377\n",
      "MAE 0.17187454577538647\n"
     ]
    }
   ],
   "source": [
    "step1 = ColumnTransformer(transformers=[\n",
    "    ('col_tnf',OneHotEncoder(sparse=False,drop='first', handle_unknown= 'ignore'),[0,1,3,8,9])\n",
    "],remainder='passthrough')\n",
    "\n",
    "step2 = RandomForestRegressor(n_estimators=100,\n",
    "                              random_state=3,\n",
    "                              max_samples=0.5,\n",
    "                              max_features=0.75,\n",
    "                              max_depth=15)\n",
    "\n",
    "pipe_rf1= Pipeline([\n",
    "    ('step1',step1),\n",
    "    ('step2',step2)\n",
    "])\n",
    "\n",
    "pipe_rf1.fit(x_train,y_train)\n",
    "\n",
    "y_pred = pipe_rf1.predict(x_test)\n",
    "\n",
    "print('R2 score',r2_score(y_test,y_pred))\n",
    "print('MAE',mean_absolute_error(y_test,y_pred))"
   ]
  },
  {
   "cell_type": "markdown",
   "id": "3e0153db",
   "metadata": {},
   "source": [
    "# Model 5: AdaBoost"
   ]
  },
  {
   "cell_type": "code",
   "execution_count": 85,
   "id": "ac660f74",
   "metadata": {},
   "outputs": [
    {
     "name": "stdout",
     "output_type": "stream",
     "text": [
      "R2 score 0.7692474537704567\n",
      "MAE 0.2330551786078758\n"
     ]
    }
   ],
   "source": [
    "step1 = ColumnTransformer(transformers = [(\"col_trf\", OneHotEncoder(sparse = False, drop =\"first\", handle_unknown= 'ignore'),[0,1,3,8,9])],remainder='passthrough')\n",
    "\n",
    "\n",
    "step2 = AdaBoostRegressor(n_estimators=15,learning_rate=1.0)\n",
    "\n",
    "pipe = Pipeline([\n",
    "    ('step1',step1),\n",
    "    ('step2',step2)\n",
    "])\n",
    "\n",
    "pipe.fit(x_train,y_train)\n",
    "\n",
    "y_pred = pipe.predict(x_test)\n",
    "\n",
    "print('R2 score',r2_score(y_test,y_pred))\n",
    "print('MAE',mean_absolute_error(y_test,y_pred))"
   ]
  },
  {
   "cell_type": "markdown",
   "id": "fa04a67c",
   "metadata": {},
   "source": [
    "# Model 6: XGBoost"
   ]
  },
  {
   "cell_type": "code",
   "execution_count": 86,
   "id": "6e7ce6db",
   "metadata": {},
   "outputs": [
    {
     "name": "stdout",
     "output_type": "stream",
     "text": [
      "R2 score 0.8669264194727674\n",
      "MAE 0.1689417644616612\n"
     ]
    }
   ],
   "source": [
    "step1 = ColumnTransformer(transformers = [(\"col_trf\", OneHotEncoder(sparse = False, drop =\"first\", handle_unknown= 'ignore'),[0,1,3,8,9])],remainder='passthrough')\n",
    "\n",
    "step2 =XGBRegressor(n_estimators=45,max_depth=5,learning_rate=0.5)\n",
    "\n",
    "pipe = Pipeline([\n",
    "    ('step1',step1),\n",
    "    ('step2',step2)\n",
    "])\n",
    "\n",
    "pipe.fit(x_train,y_train)\n",
    "\n",
    "y_pred = pipe.predict(x_test)\n",
    "\n",
    "print('R2 score',r2_score(y_test,y_pred))\n",
    "print('MAE',mean_absolute_error(y_test,y_pred))"
   ]
  },
  {
   "cell_type": "markdown",
   "id": "10875faf",
   "metadata": {},
   "source": [
    "# Model 7: Voting and Stacking Regressor"
   ]
  },
  {
   "cell_type": "code",
   "execution_count": 87,
   "id": "9e5e7d14",
   "metadata": {},
   "outputs": [
    {
     "name": "stdout",
     "output_type": "stream",
     "text": [
      "R2 score 0.8665057855733186\n",
      "MAE 0.1665954354188394\n"
     ]
    }
   ],
   "source": [
    "from sklearn.ensemble import VotingRegressor,StackingRegressor\n",
    "\n",
    "step1 = ColumnTransformer(transformers = [(\"col_trf\", OneHotEncoder(sparse = False, drop =\"first\", handle_unknown= 'ignore'),[0,1,3,8,9])],remainder='passthrough')\n",
    "\n",
    "\n",
    "\n",
    "rf = RandomForestRegressor(n_estimators=350,random_state=3,max_samples=None,max_features=0.75,max_depth=15)\n",
    "gbdt = GradientBoostingRegressor(n_estimators=100,max_features=0.5)\n",
    "xgb = XGBRegressor(n_estimators=25,learning_rate=0.3,max_depth=5)\n",
    "et = ExtraTreesRegressor(n_estimators=100,random_state=3,max_samples=None,max_features=0.75,max_depth=10)\n",
    "\n",
    "step2 = VotingRegressor([('rf', rf), ('gbdt', gbdt), ('xgb',xgb), ('et',et)],weights=[5,1,1,1])\n",
    "\n",
    "pipe = Pipeline([\n",
    "    ('step1',step1),\n",
    "    ('step2',step2)\n",
    "])\n",
    "\n",
    "pipe.fit(x_train,y_train)\n",
    "\n",
    "y_pred = pipe.predict(x_test)\n",
    "\n",
    "print('R2 score',r2_score(y_test,y_pred))\n",
    "print('MAE',mean_absolute_error(y_test,y_pred))"
   ]
  },
  {
   "cell_type": "code",
   "execution_count": 88,
   "id": "526257fa",
   "metadata": {},
   "outputs": [
    {
     "name": "stdout",
     "output_type": "stream",
     "text": [
      "R2 score 0.8563878000643064\n",
      "MAE 0.17861778772774003\n"
     ]
    }
   ],
   "source": [
    "from sklearn.ensemble import VotingRegressor,StackingRegressor\n",
    "\n",
    "step1 = ColumnTransformer(transformers = [(\"col_trf\", OneHotEncoder(sparse = False, drop =\"first\", handle_unknown= 'ignore'),[0,1,3,8,9])],remainder='passthrough')\n",
    "\n",
    "\n",
    "estimators = [\n",
    "    ('rf', RandomForestRegressor(n_estimators=350,random_state=3,max_samples=0.5,max_features=0.75,max_depth=15)),\n",
    "    ('gbdt',GradientBoostingRegressor(n_estimators=100,max_features=0.5)),\n",
    "    ('xgb', XGBRegressor(n_estimators=25,learning_rate=0.3,max_depth=5))\n",
    "]\n",
    "\n",
    "step2 = StackingRegressor(estimators=estimators, final_estimator=Ridge(alpha=100))\n",
    "\n",
    "pipe = Pipeline([\n",
    "    ('step1',step1),\n",
    "    ('step2',step2)\n",
    "])\n",
    "\n",
    "pipe.fit(x_train,y_train)\n",
    "\n",
    "y_pred = pipe.predict(x_test)\n",
    "\n",
    "print('R2 score',r2_score(y_test,y_pred))\n",
    "print('MAE',mean_absolute_error(y_test,y_pred))"
   ]
  },
  {
   "cell_type": "markdown",
   "id": "e3064584",
   "metadata": {},
   "source": [
    "# Exporting the Model"
   ]
  },
  {
   "cell_type": "code",
   "execution_count": 123,
   "id": "e085539c",
   "metadata": {},
   "outputs": [],
   "source": [
    "import pickle\n",
    "#pickle.dump(dataset,open('dataset.pkl',\"wb\"))\n",
    "pickle.dump(pipe_rf1,open('pipe_a.pkl',\"wb\"))"
   ]
  },
  {
   "cell_type": "code",
   "execution_count": 124,
   "id": "4a15445e",
   "metadata": {},
   "outputs": [],
   "source": [
    "model = pickle.load(open('pipe_a.pkl',\"rb\"))"
   ]
  },
  {
   "cell_type": "code",
   "execution_count": 127,
   "id": "d6f07f83",
   "metadata": {},
   "outputs": [
    {
     "data": {
      "text/html": [
       "<style>#sk-container-id-5 {color: black;background-color: white;}#sk-container-id-5 pre{padding: 0;}#sk-container-id-5 div.sk-toggleable {background-color: white;}#sk-container-id-5 label.sk-toggleable__label {cursor: pointer;display: block;width: 100%;margin-bottom: 0;padding: 0.3em;box-sizing: border-box;text-align: center;}#sk-container-id-5 label.sk-toggleable__label-arrow:before {content: \"▸\";float: left;margin-right: 0.25em;color: #696969;}#sk-container-id-5 label.sk-toggleable__label-arrow:hover:before {color: black;}#sk-container-id-5 div.sk-estimator:hover label.sk-toggleable__label-arrow:before {color: black;}#sk-container-id-5 div.sk-toggleable__content {max-height: 0;max-width: 0;overflow: hidden;text-align: left;background-color: #f0f8ff;}#sk-container-id-5 div.sk-toggleable__content pre {margin: 0.2em;color: black;border-radius: 0.25em;background-color: #f0f8ff;}#sk-container-id-5 input.sk-toggleable__control:checked~div.sk-toggleable__content {max-height: 200px;max-width: 100%;overflow: auto;}#sk-container-id-5 input.sk-toggleable__control:checked~label.sk-toggleable__label-arrow:before {content: \"▾\";}#sk-container-id-5 div.sk-estimator input.sk-toggleable__control:checked~label.sk-toggleable__label {background-color: #d4ebff;}#sk-container-id-5 div.sk-label input.sk-toggleable__control:checked~label.sk-toggleable__label {background-color: #d4ebff;}#sk-container-id-5 input.sk-hidden--visually {border: 0;clip: rect(1px 1px 1px 1px);clip: rect(1px, 1px, 1px, 1px);height: 1px;margin: -1px;overflow: hidden;padding: 0;position: absolute;width: 1px;}#sk-container-id-5 div.sk-estimator {font-family: monospace;background-color: #f0f8ff;border: 1px dotted black;border-radius: 0.25em;box-sizing: border-box;margin-bottom: 0.5em;}#sk-container-id-5 div.sk-estimator:hover {background-color: #d4ebff;}#sk-container-id-5 div.sk-parallel-item::after {content: \"\";width: 100%;border-bottom: 1px solid gray;flex-grow: 1;}#sk-container-id-5 div.sk-label:hover label.sk-toggleable__label {background-color: #d4ebff;}#sk-container-id-5 div.sk-serial::before {content: \"\";position: absolute;border-left: 1px solid gray;box-sizing: border-box;top: 0;bottom: 0;left: 50%;z-index: 0;}#sk-container-id-5 div.sk-serial {display: flex;flex-direction: column;align-items: center;background-color: white;padding-right: 0.2em;padding-left: 0.2em;position: relative;}#sk-container-id-5 div.sk-item {position: relative;z-index: 1;}#sk-container-id-5 div.sk-parallel {display: flex;align-items: stretch;justify-content: center;background-color: white;position: relative;}#sk-container-id-5 div.sk-item::before, #sk-container-id-5 div.sk-parallel-item::before {content: \"\";position: absolute;border-left: 1px solid gray;box-sizing: border-box;top: 0;bottom: 0;left: 50%;z-index: -1;}#sk-container-id-5 div.sk-parallel-item {display: flex;flex-direction: column;z-index: 1;position: relative;background-color: white;}#sk-container-id-5 div.sk-parallel-item:first-child::after {align-self: flex-end;width: 50%;}#sk-container-id-5 div.sk-parallel-item:last-child::after {align-self: flex-start;width: 50%;}#sk-container-id-5 div.sk-parallel-item:only-child::after {width: 0;}#sk-container-id-5 div.sk-dashed-wrapped {border: 1px dashed gray;margin: 0 0.4em 0.5em 0.4em;box-sizing: border-box;padding-bottom: 0.4em;background-color: white;}#sk-container-id-5 div.sk-label label {font-family: monospace;font-weight: bold;display: inline-block;line-height: 1.2em;}#sk-container-id-5 div.sk-label-container {text-align: center;}#sk-container-id-5 div.sk-container {/* jupyter's `normalize.less` sets `[hidden] { display: none; }` but bootstrap.min.css set `[hidden] { display: none !important; }` so we also need the `!important` here to be able to override the default hidden behavior on the sphinx rendered scikit-learn.org. See: https://github.com/scikit-learn/scikit-learn/issues/21755 */display: inline-block !important;position: relative;}#sk-container-id-5 div.sk-text-repr-fallback {display: none;}</style><div id=\"sk-container-id-5\" class=\"sk-top-container\"><div class=\"sk-text-repr-fallback\"><pre>Pipeline(steps=[(&#x27;step1&#x27;,\n",
       "                 ColumnTransformer(remainder=&#x27;passthrough&#x27;,\n",
       "                                   transformers=[(&#x27;col_tnf&#x27;,\n",
       "                                                  OneHotEncoder(drop=&#x27;first&#x27;,\n",
       "                                                                handle_unknown=&#x27;ignore&#x27;,\n",
       "                                                                sparse=False),\n",
       "                                                  [0, 1, 3, 8, 9])])),\n",
       "                (&#x27;step2&#x27;,\n",
       "                 RandomForestRegressor(max_depth=15, max_features=0.75,\n",
       "                                       max_samples=0.5, random_state=3))])</pre><b>In a Jupyter environment, please rerun this cell to show the HTML representation or trust the notebook. <br />On GitHub, the HTML representation is unable to render, please try loading this page with nbviewer.org.</b></div><div class=\"sk-container\" hidden><div class=\"sk-item sk-dashed-wrapped\"><div class=\"sk-label-container\"><div class=\"sk-label sk-toggleable\"><input class=\"sk-toggleable__control sk-hidden--visually\" id=\"sk-estimator-id-25\" type=\"checkbox\" ><label for=\"sk-estimator-id-25\" class=\"sk-toggleable__label sk-toggleable__label-arrow\">Pipeline</label><div class=\"sk-toggleable__content\"><pre>Pipeline(steps=[(&#x27;step1&#x27;,\n",
       "                 ColumnTransformer(remainder=&#x27;passthrough&#x27;,\n",
       "                                   transformers=[(&#x27;col_tnf&#x27;,\n",
       "                                                  OneHotEncoder(drop=&#x27;first&#x27;,\n",
       "                                                                handle_unknown=&#x27;ignore&#x27;,\n",
       "                                                                sparse=False),\n",
       "                                                  [0, 1, 3, 8, 9])])),\n",
       "                (&#x27;step2&#x27;,\n",
       "                 RandomForestRegressor(max_depth=15, max_features=0.75,\n",
       "                                       max_samples=0.5, random_state=3))])</pre></div></div></div><div class=\"sk-serial\"><div class=\"sk-item sk-dashed-wrapped\"><div class=\"sk-label-container\"><div class=\"sk-label sk-toggleable\"><input class=\"sk-toggleable__control sk-hidden--visually\" id=\"sk-estimator-id-26\" type=\"checkbox\" ><label for=\"sk-estimator-id-26\" class=\"sk-toggleable__label sk-toggleable__label-arrow\">step1: ColumnTransformer</label><div class=\"sk-toggleable__content\"><pre>ColumnTransformer(remainder=&#x27;passthrough&#x27;,\n",
       "                  transformers=[(&#x27;col_tnf&#x27;,\n",
       "                                 OneHotEncoder(drop=&#x27;first&#x27;,\n",
       "                                               handle_unknown=&#x27;ignore&#x27;,\n",
       "                                               sparse=False),\n",
       "                                 [0, 1, 3, 8, 9])])</pre></div></div></div><div class=\"sk-parallel\"><div class=\"sk-parallel-item\"><div class=\"sk-item\"><div class=\"sk-label-container\"><div class=\"sk-label sk-toggleable\"><input class=\"sk-toggleable__control sk-hidden--visually\" id=\"sk-estimator-id-27\" type=\"checkbox\" ><label for=\"sk-estimator-id-27\" class=\"sk-toggleable__label sk-toggleable__label-arrow\">col_tnf</label><div class=\"sk-toggleable__content\"><pre>[0, 1, 3, 8, 9]</pre></div></div></div><div class=\"sk-serial\"><div class=\"sk-item\"><div class=\"sk-estimator sk-toggleable\"><input class=\"sk-toggleable__control sk-hidden--visually\" id=\"sk-estimator-id-28\" type=\"checkbox\" ><label for=\"sk-estimator-id-28\" class=\"sk-toggleable__label sk-toggleable__label-arrow\">OneHotEncoder</label><div class=\"sk-toggleable__content\"><pre>OneHotEncoder(drop=&#x27;first&#x27;, handle_unknown=&#x27;ignore&#x27;, sparse=False)</pre></div></div></div></div></div></div><div class=\"sk-parallel-item\"><div class=\"sk-item\"><div class=\"sk-label-container\"><div class=\"sk-label sk-toggleable\"><input class=\"sk-toggleable__control sk-hidden--visually\" id=\"sk-estimator-id-29\" type=\"checkbox\" ><label for=\"sk-estimator-id-29\" class=\"sk-toggleable__label sk-toggleable__label-arrow\">remainder</label><div class=\"sk-toggleable__content\"><pre>[&#x27;Ram&#x27;, &#x27;Weight&#x27;, &#x27;Touchscreen&#x27;, &#x27;IPS&#x27;, &#x27;PPI&#x27;, &#x27;SSD&#x27;]</pre></div></div></div><div class=\"sk-serial\"><div class=\"sk-item\"><div class=\"sk-estimator sk-toggleable\"><input class=\"sk-toggleable__control sk-hidden--visually\" id=\"sk-estimator-id-30\" type=\"checkbox\" ><label for=\"sk-estimator-id-30\" class=\"sk-toggleable__label sk-toggleable__label-arrow\">passthrough</label><div class=\"sk-toggleable__content\"><pre>passthrough</pre></div></div></div></div></div></div></div></div><div class=\"sk-item\"><div class=\"sk-estimator sk-toggleable\"><input class=\"sk-toggleable__control sk-hidden--visually\" id=\"sk-estimator-id-31\" type=\"checkbox\" ><label for=\"sk-estimator-id-31\" class=\"sk-toggleable__label sk-toggleable__label-arrow\">RandomForestRegressor</label><div class=\"sk-toggleable__content\"><pre>RandomForestRegressor(max_depth=15, max_features=0.75, max_samples=0.5,\n",
       "                      random_state=3)</pre></div></div></div></div></div></div></div>"
      ],
      "text/plain": [
       "Pipeline(steps=[('step1',\n",
       "                 ColumnTransformer(remainder='passthrough',\n",
       "                                   transformers=[('col_tnf',\n",
       "                                                  OneHotEncoder(drop='first',\n",
       "                                                                handle_unknown='ignore',\n",
       "                                                                sparse=False),\n",
       "                                                  [0, 1, 3, 8, 9])])),\n",
       "                ('step2',\n",
       "                 RandomForestRegressor(max_depth=15, max_features=0.75,\n",
       "                                       max_samples=0.5, random_state=3))])"
      ]
     },
     "execution_count": 127,
     "metadata": {},
     "output_type": "execute_result"
    }
   ],
   "source": [
    "model"
   ]
  },
  {
   "cell_type": "code",
   "execution_count": 126,
   "id": "891f1d3e",
   "metadata": {},
   "outputs": [
    {
     "data": {
      "text/html": [
       "<div>\n",
       "<style scoped>\n",
       "    .dataframe tbody tr th:only-of-type {\n",
       "        vertical-align: middle;\n",
       "    }\n",
       "\n",
       "    .dataframe tbody tr th {\n",
       "        vertical-align: top;\n",
       "    }\n",
       "\n",
       "    .dataframe thead th {\n",
       "        text-align: right;\n",
       "    }\n",
       "</style>\n",
       "<table border=\"1\" class=\"dataframe\">\n",
       "  <thead>\n",
       "    <tr style=\"text-align: right;\">\n",
       "      <th></th>\n",
       "      <th>Company</th>\n",
       "      <th>TypeName</th>\n",
       "      <th>Ram</th>\n",
       "      <th>OpSys</th>\n",
       "      <th>Weight</th>\n",
       "      <th>Touchscreen</th>\n",
       "      <th>IPS</th>\n",
       "      <th>PPI</th>\n",
       "      <th>CPU Brand</th>\n",
       "      <th>GPU</th>\n",
       "      <th>SSD</th>\n",
       "    </tr>\n",
       "  </thead>\n",
       "  <tbody>\n",
       "    <tr>\n",
       "      <th>765</th>\n",
       "      <td>Acer</td>\n",
       "      <td>Notebook</td>\n",
       "      <td>4</td>\n",
       "      <td>Windows</td>\n",
       "      <td>1.60</td>\n",
       "      <td>0</td>\n",
       "      <td>0</td>\n",
       "      <td>118.0</td>\n",
       "      <td>Intel Core i5</td>\n",
       "      <td>Intel</td>\n",
       "      <td>128</td>\n",
       "    </tr>\n",
       "    <tr>\n",
       "      <th>1054</th>\n",
       "      <td>Dell</td>\n",
       "      <td>Ultrabook</td>\n",
       "      <td>16</td>\n",
       "      <td>Windows</td>\n",
       "      <td>1.20</td>\n",
       "      <td>0</td>\n",
       "      <td>0</td>\n",
       "      <td>276.0</td>\n",
       "      <td>Intel Core i7</td>\n",
       "      <td>Intel</td>\n",
       "      <td>1000</td>\n",
       "    </tr>\n",
       "    <tr>\n",
       "      <th>230</th>\n",
       "      <td>Asus</td>\n",
       "      <td>Notebook</td>\n",
       "      <td>4</td>\n",
       "      <td>Windows</td>\n",
       "      <td>2.37</td>\n",
       "      <td>0</td>\n",
       "      <td>0</td>\n",
       "      <td>100.0</td>\n",
       "      <td>Intel Core i3</td>\n",
       "      <td>Intel</td>\n",
       "      <td>0</td>\n",
       "    </tr>\n",
       "    <tr>\n",
       "      <th>1090</th>\n",
       "      <td>Dell</td>\n",
       "      <td>Notebook</td>\n",
       "      <td>4</td>\n",
       "      <td>Linux</td>\n",
       "      <td>2.20</td>\n",
       "      <td>0</td>\n",
       "      <td>0</td>\n",
       "      <td>100.0</td>\n",
       "      <td>Other Intel Processor</td>\n",
       "      <td>Intel</td>\n",
       "      <td>0</td>\n",
       "    </tr>\n",
       "    <tr>\n",
       "      <th>20</th>\n",
       "      <td>Asus</td>\n",
       "      <td>Netbook</td>\n",
       "      <td>2</td>\n",
       "      <td>Windows</td>\n",
       "      <td>0.98</td>\n",
       "      <td>0</td>\n",
       "      <td>0</td>\n",
       "      <td>135.0</td>\n",
       "      <td>Other Intel Processor</td>\n",
       "      <td>Intel</td>\n",
       "      <td>0</td>\n",
       "    </tr>\n",
       "    <tr>\n",
       "      <th>...</th>\n",
       "      <td>...</td>\n",
       "      <td>...</td>\n",
       "      <td>...</td>\n",
       "      <td>...</td>\n",
       "      <td>...</td>\n",
       "      <td>...</td>\n",
       "      <td>...</td>\n",
       "      <td>...</td>\n",
       "      <td>...</td>\n",
       "      <td>...</td>\n",
       "      <td>...</td>\n",
       "    </tr>\n",
       "    <tr>\n",
       "      <th>269</th>\n",
       "      <td>Lenovo</td>\n",
       "      <td>Notebook</td>\n",
       "      <td>8</td>\n",
       "      <td>Windows</td>\n",
       "      <td>2.05</td>\n",
       "      <td>0</td>\n",
       "      <td>0</td>\n",
       "      <td>141.0</td>\n",
       "      <td>Intel Core i7</td>\n",
       "      <td>Intel</td>\n",
       "      <td>256</td>\n",
       "    </tr>\n",
       "    <tr>\n",
       "      <th>375</th>\n",
       "      <td>HP</td>\n",
       "      <td>Notebook</td>\n",
       "      <td>4</td>\n",
       "      <td>Windows</td>\n",
       "      <td>1.91</td>\n",
       "      <td>0</td>\n",
       "      <td>0</td>\n",
       "      <td>141.0</td>\n",
       "      <td>AMD Processor</td>\n",
       "      <td>AMD</td>\n",
       "      <td>256</td>\n",
       "    </tr>\n",
       "    <tr>\n",
       "      <th>754</th>\n",
       "      <td>Asus</td>\n",
       "      <td>Notebook</td>\n",
       "      <td>4</td>\n",
       "      <td>Windows</td>\n",
       "      <td>2.37</td>\n",
       "      <td>0</td>\n",
       "      <td>0</td>\n",
       "      <td>100.0</td>\n",
       "      <td>Intel Core i7</td>\n",
       "      <td>Intel</td>\n",
       "      <td>256</td>\n",
       "    </tr>\n",
       "    <tr>\n",
       "      <th>37</th>\n",
       "      <td>Dell</td>\n",
       "      <td>Notebook</td>\n",
       "      <td>8</td>\n",
       "      <td>Windows</td>\n",
       "      <td>2.80</td>\n",
       "      <td>0</td>\n",
       "      <td>1</td>\n",
       "      <td>127.0</td>\n",
       "      <td>Intel Core i5</td>\n",
       "      <td>AMD</td>\n",
       "      <td>128</td>\n",
       "    </tr>\n",
       "    <tr>\n",
       "      <th>260</th>\n",
       "      <td>Dell</td>\n",
       "      <td>Notebook</td>\n",
       "      <td>8</td>\n",
       "      <td>Windows</td>\n",
       "      <td>2.80</td>\n",
       "      <td>0</td>\n",
       "      <td>0</td>\n",
       "      <td>127.0</td>\n",
       "      <td>Intel Core i7</td>\n",
       "      <td>AMD</td>\n",
       "      <td>128</td>\n",
       "    </tr>\n",
       "  </tbody>\n",
       "</table>\n",
       "<p>326 rows × 11 columns</p>\n",
       "</div>"
      ],
      "text/plain": [
       "     Company   TypeName  Ram    OpSys  Weight  Touchscreen  IPS    PPI  \\\n",
       "765     Acer   Notebook    4  Windows    1.60            0    0  118.0   \n",
       "1054    Dell  Ultrabook   16  Windows    1.20            0    0  276.0   \n",
       "230     Asus   Notebook    4  Windows    2.37            0    0  100.0   \n",
       "1090    Dell   Notebook    4    Linux    2.20            0    0  100.0   \n",
       "20      Asus    Netbook    2  Windows    0.98            0    0  135.0   \n",
       "...      ...        ...  ...      ...     ...          ...  ...    ...   \n",
       "269   Lenovo   Notebook    8  Windows    2.05            0    0  141.0   \n",
       "375       HP   Notebook    4  Windows    1.91            0    0  141.0   \n",
       "754     Asus   Notebook    4  Windows    2.37            0    0  100.0   \n",
       "37      Dell   Notebook    8  Windows    2.80            0    1  127.0   \n",
       "260     Dell   Notebook    8  Windows    2.80            0    0  127.0   \n",
       "\n",
       "                  CPU Brand    GPU   SSD  \n",
       "765           Intel Core i5  Intel   128  \n",
       "1054          Intel Core i7  Intel  1000  \n",
       "230           Intel Core i3  Intel     0  \n",
       "1090  Other Intel Processor  Intel     0  \n",
       "20    Other Intel Processor  Intel     0  \n",
       "...                     ...    ...   ...  \n",
       "269           Intel Core i7  Intel   256  \n",
       "375           AMD Processor    AMD   256  \n",
       "754           Intel Core i7  Intel   256  \n",
       "37            Intel Core i5    AMD   128  \n",
       "260           Intel Core i7    AMD   128  \n",
       "\n",
       "[326 rows x 11 columns]"
      ]
     },
     "execution_count": 126,
     "metadata": {},
     "output_type": "execute_result"
    }
   ],
   "source": [
    "x_test"
   ]
  },
  {
   "cell_type": "code",
   "execution_count": 125,
   "id": "0d9a80b5",
   "metadata": {},
   "outputs": [
    {
     "data": {
      "text/plain": [
       "array([10.7920484 , 11.75176971, 10.07853901,  9.720346  ,  9.51186254,\n",
       "       11.31916849, 10.4026996 ,  9.85083551, 10.70112715, 10.71343362,\n",
       "       11.21050314, 10.72629615, 10.83803409, 11.08787835, 11.64744897,\n",
       "        9.66933024, 11.62615289, 11.00886293, 10.76928148, 11.06411868,\n",
       "       11.29523858, 10.88444386, 10.34190864, 11.51360931, 10.00309973,\n",
       "       11.18119608, 11.65299278, 11.25292647, 11.51617663, 10.50353635,\n",
       "        9.85986971, 10.55594887,  9.68238849,  9.50383346, 11.49426905,\n",
       "        9.81759211, 11.13698172, 10.08146399, 10.86357773, 11.504579  ,\n",
       "       11.36726008, 10.4762637 , 11.11900152, 10.41939304, 11.30927539,\n",
       "       10.79493417, 10.98143358, 11.0625593 , 11.1313457 , 11.35991359,\n",
       "       11.10066682, 10.73135414, 10.86909574, 11.06919225,  9.9878859 ,\n",
       "       11.37293131,  9.62787164, 10.53479264, 10.92828953, 11.12791918,\n",
       "       10.12649277,  9.93377185, 11.38802977, 10.98770517, 11.10369396,\n",
       "       10.67555755, 10.52140179, 11.16476542, 10.70532948, 10.30382179,\n",
       "       10.62503389, 11.39216533,  9.96188225, 11.70464434, 11.07874622,\n",
       "       11.32050115, 11.126727  , 10.4124926 , 10.16558491, 11.64354058,\n",
       "       11.01852343, 11.3267601 , 11.33577994, 10.5564796 , 10.86209334,\n",
       "        9.75983447,  9.87903445, 10.56726524, 11.43349694, 10.36344193,\n",
       "       10.26450959, 10.58984894, 11.01203916, 10.40881542, 11.32179193,\n",
       "       11.63565503, 11.31479715, 10.80035225, 11.29708354, 10.51585613,\n",
       "       10.79594389, 11.16826408, 11.47864861, 10.52459023, 10.5702825 ,\n",
       "        9.50708255, 11.0921143 , 10.52549117, 10.49879486, 10.95212166,\n",
       "       11.6285293 , 11.12654813, 10.91220007, 11.24054105, 11.08609326,\n",
       "       11.10139306, 11.06826883, 11.47801954, 10.15036444, 10.1510156 ,\n",
       "       10.71947595, 10.99246243, 11.64713321, 10.94024601, 10.95615635,\n",
       "       10.77333391, 10.40367834, 11.46420812, 10.95930394, 10.14729482,\n",
       "       11.77855422, 10.82528877, 10.98387951, 11.02300052,  9.51186254,\n",
       "       11.43759585, 11.77247658, 11.68540993, 11.08609326, 10.92502297,\n",
       "       11.47817145, 11.10603543, 10.38557732, 10.65304759, 11.01949145,\n",
       "       10.51317486, 11.0987581 , 10.45712828, 10.17226464, 11.48455659,\n",
       "       11.03951766, 11.97050735, 10.23515788, 11.54070812, 11.87251159,\n",
       "       10.92131362, 10.98709729, 11.65004446, 10.99730816, 10.50080539,\n",
       "       10.40681127, 10.98353519, 11.49697965,  9.89335888, 11.0801263 ,\n",
       "       10.78760875, 11.18824829,  9.81988033,  9.93377185,  9.81988033,\n",
       "       10.62529989, 11.10551794, 10.88672271, 10.16033552, 11.3597213 ,\n",
       "       10.8300276 , 11.12696562, 10.22717983, 11.04728876, 11.27736876,\n",
       "       10.53491556, 10.17358472, 11.59257079, 10.7616504 , 10.87928618,\n",
       "        9.9878859 , 10.49523885, 11.25738424, 11.39206109, 11.19836443,\n",
       "       10.98380854, 11.38213922, 10.26579903, 10.03041184, 11.51617663,\n",
       "       11.6555311 , 11.09268026,  9.97514231, 11.14974901, 11.89905017,\n",
       "       11.08778692, 11.58036551, 10.21551813, 11.55662725, 10.96497309,\n",
       "       11.25738424, 10.90309619, 11.34569063, 10.61105029, 10.75257564,\n",
       "       11.63541682,  9.81049978,  9.83046085,  9.81049978, 10.87328519,\n",
       "       10.2634864 , 11.20229508, 10.85253809, 11.1636119 , 11.00196285,\n",
       "       11.5209461 , 10.95849317, 10.02173512, 11.23479633, 10.63849492,\n",
       "       11.36207916, 12.10091233, 10.30501527, 10.40844684, 11.40202418,\n",
       "       10.1303774 , 11.04412349,  9.70495561, 11.89905017, 10.60959005,\n",
       "       10.8650944 , 11.59130925, 10.76614147,  9.70495561, 11.10691744,\n",
       "       10.75952958, 11.51457845, 10.5268546 , 10.66014526,  9.77002097,\n",
       "       11.14650102, 10.98439627, 10.0494465 , 10.91649474, 10.55017644,\n",
       "       10.32060066, 11.61296159, 11.48232898, 11.1636119 , 10.79155107,\n",
       "       11.2125631 , 10.00591676, 10.88266355, 11.07351305, 11.36856862,\n",
       "       10.40648759, 10.80486051, 10.87398077, 11.16826408, 11.34273234,\n",
       "       11.33148412, 11.66389217, 10.69368485, 10.43178741,  9.99709511,\n",
       "       11.14746586, 10.78783263, 11.07324379, 11.17741768, 10.80352415,\n",
       "       10.08677851, 11.75067034, 10.84985698, 11.11826877, 10.87803931,\n",
       "       11.12654813, 10.86578983, 11.0801263 , 10.82528877, 10.30216127,\n",
       "       11.73250652, 10.58984894, 11.44801113, 11.09268026, 10.68019939,\n",
       "       11.47169538, 11.47495143, 11.38230622, 10.02173512, 11.51846436,\n",
       "       11.60187459, 11.44151572, 10.92607271, 10.38830496, 10.40059119,\n",
       "       11.19041109, 11.28543817, 11.02977883, 10.16075699, 10.57510566,\n",
       "       11.23360317, 10.42122383, 11.44731239, 10.97158332, 10.68384691,\n",
       "       10.16047691,  9.91586961, 11.23509153, 11.54136342, 10.85627818,\n",
       "       10.76927544, 11.07346876, 10.68589068, 10.01811995, 11.21083714,\n",
       "       10.28399048, 10.97937148, 10.15388642, 10.492187  , 10.95413181,\n",
       "       10.99730816])"
      ]
     },
     "execution_count": 125,
     "metadata": {},
     "output_type": "execute_result"
    }
   ],
   "source": [
    "model.predict(x_test)"
   ]
  },
  {
   "cell_type": "code",
   "execution_count": 101,
   "id": "04283486",
   "metadata": {},
   "outputs": [
    {
     "data": {
      "text/html": [
       "<div>\n",
       "<style scoped>\n",
       "    .dataframe tbody tr th:only-of-type {\n",
       "        vertical-align: middle;\n",
       "    }\n",
       "\n",
       "    .dataframe tbody tr th {\n",
       "        vertical-align: top;\n",
       "    }\n",
       "\n",
       "    .dataframe thead th {\n",
       "        text-align: right;\n",
       "    }\n",
       "</style>\n",
       "<table border=\"1\" class=\"dataframe\">\n",
       "  <thead>\n",
       "    <tr style=\"text-align: right;\">\n",
       "      <th></th>\n",
       "      <th>Company</th>\n",
       "      <th>TypeName</th>\n",
       "      <th>Ram</th>\n",
       "      <th>OpSys</th>\n",
       "      <th>Weight</th>\n",
       "      <th>Price</th>\n",
       "      <th>Touchscreen</th>\n",
       "      <th>IPS</th>\n",
       "      <th>PPI</th>\n",
       "      <th>CPU Brand</th>\n",
       "      <th>GPU</th>\n",
       "      <th>SSD</th>\n",
       "    </tr>\n",
       "  </thead>\n",
       "  <tbody>\n",
       "    <tr>\n",
       "      <th>0</th>\n",
       "      <td>Apple</td>\n",
       "      <td>Ultrabook</td>\n",
       "      <td>8</td>\n",
       "      <td>Mac</td>\n",
       "      <td>1.37</td>\n",
       "      <td>71378.6832</td>\n",
       "      <td>0</td>\n",
       "      <td>1</td>\n",
       "      <td>227.0</td>\n",
       "      <td>Intel Core i5</td>\n",
       "      <td>Intel</td>\n",
       "      <td>128</td>\n",
       "    </tr>\n",
       "  </tbody>\n",
       "</table>\n",
       "</div>"
      ],
      "text/plain": [
       "  Company   TypeName  Ram OpSys  Weight       Price  Touchscreen  IPS    PPI  \\\n",
       "0   Apple  Ultrabook    8   Mac    1.37  71378.6832            0    1  227.0   \n",
       "\n",
       "       CPU Brand    GPU  SSD  \n",
       "0  Intel Core i5  Intel  128  "
      ]
     },
     "execution_count": 101,
     "metadata": {},
     "output_type": "execute_result"
    }
   ],
   "source": [
    "dataset.head(1)"
   ]
  },
  {
   "cell_type": "code",
   "execution_count": 102,
   "id": "821c8da7",
   "metadata": {},
   "outputs": [
    {
     "data": {
      "text/plain": [
       "array(['Intel Core i5', 'Intel Core i7', 'AMD Processor', 'Intel Core i3',\n",
       "       'Other Intel Processor'], dtype=object)"
      ]
     },
     "execution_count": 102,
     "metadata": {},
     "output_type": "execute_result"
    }
   ],
   "source": [
    "dataset[\"CPU Brand\"].unique()"
   ]
  },
  {
   "cell_type": "code",
   "execution_count": 103,
   "id": "7eb8b33f",
   "metadata": {},
   "outputs": [],
   "source": [
    "query = np.array([\"Apple\", 4, \"Intel Core 5\"])"
   ]
  },
  {
   "cell_type": "code",
   "execution_count": 104,
   "id": "e2462b9a",
   "metadata": {},
   "outputs": [
    {
     "data": {
      "text/plain": [
       "array(['Apple', '4', 'Intel Core 5'], dtype='<U12')"
      ]
     },
     "execution_count": 104,
     "metadata": {},
     "output_type": "execute_result"
    }
   ],
   "source": [
    "query\n"
   ]
  },
  {
   "cell_type": "code",
   "execution_count": null,
   "id": "ade8b376",
   "metadata": {},
   "outputs": [],
   "source": []
  }
 ],
 "metadata": {
  "kernelspec": {
   "display_name": "Python 3 (ipykernel)",
   "language": "python",
   "name": "python3"
  },
  "language_info": {
   "codemirror_mode": {
    "name": "ipython",
    "version": 3
   },
   "file_extension": ".py",
   "mimetype": "text/x-python",
   "name": "python",
   "nbconvert_exporter": "python",
   "pygments_lexer": "ipython3",
   "version": "3.9.7"
  }
 },
 "nbformat": 4,
 "nbformat_minor": 5
}
